{
  "nbformat": 4,
  "nbformat_minor": 0,
  "metadata": {
    "colab": {
      "name": "Assignment 6- Numpy.ipynb",
      "provenance": []
    },
    "kernelspec": {
      "name": "python3",
      "display_name": "Python 3"
    },
    "language_info": {
      "name": "python"
    }
  },
  "cells": [
    {
      "cell_type": "markdown",
      "metadata": {
        "id": "zBtdtd3GFvAo"
      },
      "source": [
        "# Task-1 : Arrays\n",
        "\n"
      ]
    },
    {
      "cell_type": "markdown",
      "metadata": {
        "id": "TnB0hDIrFu1h"
      },
      "source": [
        "You are given a space separated list of numbers.\n",
        "Your task is to print a reversed NumPy array with the element type float."
      ]
    },
    {
      "cell_type": "code",
      "metadata": {
        "colab": {
          "base_uri": "https://localhost:8080/"
        },
        "id": "Slc8zfnMFh-V",
        "outputId": "94911c71-4dd6-453c-eaa0-8d4c5c8f6a23"
      },
      "source": [
        "import numpy\n",
        "\n",
        "def arrays(arr):\n",
        "    a = numpy.array(arr, float)\n",
        "    a = numpy.flip(a)\n",
        "    return a\n",
        "\n",
        "arr = input().strip().split(' ')\n",
        "result = arrays(arr)\n",
        "print(result)"
      ],
      "execution_count": 1,
      "outputs": [
        {
          "output_type": "stream",
          "name": "stdout",
          "text": [
            "1 2 3 4 -8 -10\n",
            "[-10.  -8.   4.   3.   2.   1.]\n"
          ]
        }
      ]
    },
    {
      "cell_type": "markdown",
      "metadata": {
        "id": "kKYL3ckIGDrk"
      },
      "source": [
        "# Task-2 : Shape and Reshape"
      ]
    },
    {
      "cell_type": "markdown",
      "metadata": {
        "id": "axsCHzrWGJiU"
      },
      "source": [
        "You are given a space separated list of nine integers. Your task is to convert this list into a 3X3 NumPy array."
      ]
    },
    {
      "cell_type": "code",
      "metadata": {
        "colab": {
          "base_uri": "https://localhost:8080/"
        },
        "id": "8lAkVMmpGPDS",
        "outputId": "eaedbef3-e724-4377-9101-9915c375dbd9"
      },
      "source": [
        "import numpy\n",
        "\n",
        "array = list(map(int,input().split()))\n",
        "\n",
        "arr = numpy.array(array)\n",
        "\n",
        "new_arr = numpy.reshape(array,(3,3))\n",
        "print(new_arr)\n"
      ],
      "execution_count": 2,
      "outputs": [
        {
          "output_type": "stream",
          "name": "stdout",
          "text": [
            "1 2 3 4 5 6 7 8 9\n",
            "[[1 2 3]\n",
            " [4 5 6]\n",
            " [7 8 9]]\n"
          ]
        }
      ]
    },
    {
      "cell_type": "markdown",
      "metadata": {
        "id": "WgT0_wQtGVpT"
      },
      "source": [
        "# Task-3 :Transpose and Flatten "
      ]
    },
    {
      "cell_type": "markdown",
      "metadata": {
        "id": "L_GxFcmNGe6u"
      },
      "source": [
        "You are given a NXM integer array matrix with space separated elements (N = rows and M = columns).\n",
        "Your task is to print the transpose and flatten results."
      ]
    },
    {
      "cell_type": "code",
      "metadata": {
        "colab": {
          "base_uri": "https://localhost:8080/"
        },
        "id": "KM5hQz_NGmY8",
        "outputId": "a183deb3-315b-4727-b9e3-da330b7b26e3"
      },
      "source": [
        "import numpy\n",
        "\n",
        "n,m = map(int,input().split())\n",
        "array = []\n",
        "for i in range(n):\n",
        "    arr = input().split()\n",
        "    array.append(arr)\n",
        "\n",
        "array1 = numpy.array(array, int)\n",
        "\n",
        "\n",
        "print(numpy.transpose(array1)) # Transpose of array1\n",
        "\n",
        "print(array1.flatten()) # Array1 converted into 1D array\n"
      ],
      "execution_count": 3,
      "outputs": [
        {
          "output_type": "stream",
          "name": "stdout",
          "text": [
            "2 2\n",
            "1 2\n",
            "3 4\n",
            "[[1 3]\n",
            " [2 4]]\n",
            "[1 2 3 4]\n"
          ]
        }
      ]
    },
    {
      "cell_type": "markdown",
      "metadata": {
        "id": "NFvoDs4FG1IC"
      },
      "source": [
        "# Task-4 : Concatenate"
      ]
    },
    {
      "cell_type": "markdown",
      "metadata": {
        "id": "yGK_ZacFG6tU"
      },
      "source": [
        "You are given two integer arrays of size NxP and MxP ( N & M  are rows, and P is the column). Your task is to concatenate the arrays along axis 0."
      ]
    },
    {
      "cell_type": "code",
      "metadata": {
        "colab": {
          "base_uri": "https://localhost:8080/"
        },
        "id": "HiZZzg3pHWRN",
        "outputId": "1e8df7f0-3c1b-475a-9fcb-343fb16d6462"
      },
      "source": [
        "import numpy\n",
        "\n",
        "# n and m are no. of rows for both array and p is column.\n",
        "\n",
        "n, m, p = map(int,input().split()) \n",
        "\n",
        "lst1 = []\n",
        "for i in range(n):\n",
        "    a = input().split()\n",
        "    lst1.append(a)\n",
        "    \n",
        "arr1 = numpy.array(lst1,int)\n",
        "\n",
        "lst2 = []\n",
        "for i in range(m):\n",
        "    b = input().split()\n",
        "    lst2.append(b)\n",
        "    \n",
        "arr2 = numpy.array(lst2,int)\n",
        "\n",
        "print(numpy.concatenate((arr1,arr2),axis=0))\n"
      ],
      "execution_count": 4,
      "outputs": [
        {
          "output_type": "stream",
          "name": "stdout",
          "text": [
            "4 3 2\n",
            "1 2\n",
            "1 2\n",
            "1 2\n",
            "1 2\n",
            "3 4\n",
            "3 4\n",
            "3 4\n",
            "[[1 2]\n",
            " [1 2]\n",
            " [1 2]\n",
            " [1 2]\n",
            " [3 4]\n",
            " [3 4]\n",
            " [3 4]]\n"
          ]
        }
      ]
    },
    {
      "cell_type": "markdown",
      "metadata": {
        "id": "U1Jq7PyBHg6K"
      },
      "source": [
        "# Task-5 : Zeros and Ones"
      ]
    },
    {
      "cell_type": "markdown",
      "metadata": {
        "id": "gZK0kQlNHmh9"
      },
      "source": [
        "You are given the shape of the array in the form of space-separated integers, each integer representing the size of different dimensions, your task is to print an array of the given shape and integer type using the tools numpy.zeros and numpy.ones."
      ]
    },
    {
      "cell_type": "code",
      "metadata": {
        "colab": {
          "base_uri": "https://localhost:8080/"
        },
        "id": "XwATGQRUHqMV",
        "outputId": "0d2b2182-049a-410f-aa99-554be2a63a61"
      },
      "source": [
        "import numpy\n",
        "\n",
        "# parm consist 3 values, row, column and dimension of array\n",
        "parm = list(map(int,input().split())) \n",
        "\n",
        "print(numpy.zeros((parm),dtype = int)) # Gives array of zero values\n",
        "print(numpy.ones((parm), dtype = int)) # Gives array of one values\n"
      ],
      "execution_count": 5,
      "outputs": [
        {
          "output_type": "stream",
          "name": "stdout",
          "text": [
            "3 3 3\n",
            "[[[0 0 0]\n",
            "  [0 0 0]\n",
            "  [0 0 0]]\n",
            "\n",
            " [[0 0 0]\n",
            "  [0 0 0]\n",
            "  [0 0 0]]\n",
            "\n",
            " [[0 0 0]\n",
            "  [0 0 0]\n",
            "  [0 0 0]]]\n",
            "[[[1 1 1]\n",
            "  [1 1 1]\n",
            "  [1 1 1]]\n",
            "\n",
            " [[1 1 1]\n",
            "  [1 1 1]\n",
            "  [1 1 1]]\n",
            "\n",
            " [[1 1 1]\n",
            "  [1 1 1]\n",
            "  [1 1 1]]]\n"
          ]
        }
      ]
    },
    {
      "cell_type": "markdown",
      "metadata": {
        "id": "jTJNvZ_BHw8Y"
      },
      "source": [
        "# Task-6 : Eye and Identity"
      ]
    },
    {
      "cell_type": "markdown",
      "metadata": {
        "id": "6FGH4C1PH4UF"
      },
      "source": [
        "Your task is to print an array of size N x M with its main diagonal elements as 0's and 1's everywhere else."
      ]
    },
    {
      "cell_type": "code",
      "metadata": {
        "colab": {
          "base_uri": "https://localhost:8080/"
        },
        "id": "7MIyHFBXIAgL",
        "outputId": "5ec4b3c7-a768-42d4-e70b-603baf8b0fb6"
      },
      "source": [
        "import numpy\n",
        "\n",
        "numpy.set_printoptions(legacy='1.13')\n",
        "\n",
        "n, m = map(int,input().split())\n",
        "\n",
        "print(numpy.eye(n,m))"
      ],
      "execution_count": 6,
      "outputs": [
        {
          "output_type": "stream",
          "name": "stdout",
          "text": [
            "3 3\n",
            "[[ 1.  0.  0.]\n",
            " [ 0.  1.  0.]\n",
            " [ 0.  0.  1.]]\n"
          ]
        }
      ]
    },
    {
      "cell_type": "markdown",
      "metadata": {
        "id": "lop9VUP2IFxj"
      },
      "source": [
        "# Task-7 : Array Mathematics"
      ]
    },
    {
      "cell_type": "markdown",
      "metadata": {
        "id": "zg2tWqeJIMyN"
      },
      "source": [
        "You are given two integer arrays,A  and B of dimensions N x M.\n",
        "Your task is to perform the following operations:\n",
        "\n",
        "1. Add ( A+B )\n",
        "2. Subtract ( A-B )\n",
        "3. Multiply ( A*B )\n",
        "4. Integer Division ( A/B )\n",
        "5. Mod ( A%B )\n",
        "6. Power ( A**B )"
      ]
    },
    {
      "cell_type": "code",
      "metadata": {
        "colab": {
          "base_uri": "https://localhost:8080/"
        },
        "id": "dO1dk04MIiNT",
        "outputId": "f25efe26-0cab-463f-bf36-c9a3d0b5cf4b"
      },
      "source": [
        "import numpy\n",
        "\n",
        "n,m = map(int,input().split())\n",
        "lst = []\n",
        "for i in range(n):\n",
        "    lst1 = list(map(int,input().split()))\n",
        "    lst.append(lst1)\n",
        "A = numpy.array(lst,int)\n",
        "\n",
        "lst2 = []\n",
        "for i in range(n):\n",
        "    lst3 = list(map(int,input().split()))\n",
        "    lst2.append(lst3)\n",
        "B = numpy.array(lst2,int)\n",
        "# Addition\n",
        "add = A + B\n",
        "print(add)\n",
        "\n",
        "#Substraction\n",
        "subs = A - B\n",
        "print(subs)\n",
        "\n",
        "# Multipication\n",
        "multi = A*B\n",
        "print(multi)\n",
        "\n",
        "#Integer division\n",
        "div = A//B\n",
        "print(div)\n",
        "\n",
        "# Mod\n",
        "mod = A % B\n",
        "print(mod)\n",
        "\n",
        "# Power\n",
        "power = A**B\n",
        "print(power)\n"
      ],
      "execution_count": 7,
      "outputs": [
        {
          "output_type": "stream",
          "name": "stdout",
          "text": [
            "1 4\n",
            "1 2 3 4\n",
            "5 6 7 8\n",
            "[[ 6  8 10 12]]\n",
            "[[-4 -4 -4 -4]]\n",
            "[[ 5 12 21 32]]\n",
            "[[0 0 0 0]]\n",
            "[[1 2 3 4]]\n",
            "[[    1    64  2187 65536]]\n"
          ]
        }
      ]
    },
    {
      "cell_type": "markdown",
      "metadata": {
        "id": "LnsAb5L3I1nk"
      },
      "source": [
        "# Task-8 : Floor, Ceil and Rint\n"
      ]
    },
    {
      "cell_type": "markdown",
      "metadata": {
        "id": "gXGakkJUI4BE"
      },
      "source": [
        "You are given a 1-D array,A . Your task is to print the floor, ceil and rint  of all the elements of ."
      ]
    },
    {
      "cell_type": "code",
      "metadata": {
        "colab": {
          "base_uri": "https://localhost:8080/"
        },
        "id": "NooPCichJCdh",
        "outputId": "1fc186a3-3ef7-425c-eb34-12901d91d617"
      },
      "source": [
        "import numpy\n",
        "\n",
        "# It helps to get output in same order\n",
        "numpy.set_printoptions(legacy='1.13')\n",
        "\n",
        "A = numpy.array((list(map(float,input().split()))))\n",
        "\n",
        "# floor function gives the least integer value to given number.\n",
        "print(numpy.floor(A))\n",
        "\n",
        "# ceil function gives the value of greatest nearer integer.\n",
        "print(numpy.ceil(A))\n",
        "\n",
        "# rint function round of the value to its nearest integer.\n",
        "print(numpy.rint(A))\n"
      ],
      "execution_count": 8,
      "outputs": [
        {
          "output_type": "stream",
          "name": "stdout",
          "text": [
            "1.1 2.2 3.3 4.4 5.5 6.6 7.7 8.8 9.9\n",
            "[ 1.  2.  3.  4.  5.  6.  7.  8.  9.]\n",
            "[  2.   3.   4.   5.   6.   7.   8.   9.  10.]\n",
            "[  1.   2.   3.   4.   6.   7.   8.   9.  10.]\n"
          ]
        }
      ]
    },
    {
      "cell_type": "markdown",
      "metadata": {
        "id": "psjw2iwMJIA4"
      },
      "source": [
        "# Task-9 : Sum and Prod"
      ]
    },
    {
      "cell_type": "markdown",
      "metadata": {
        "id": "JwunKnwkJOh8"
      },
      "source": [
        "You are given a 2-D array with dimensions N x M.\n",
        "Your task is to perform the sum tool over axis 0 and then find the product of that result."
      ]
    },
    {
      "cell_type": "code",
      "metadata": {
        "colab": {
          "base_uri": "https://localhost:8080/"
        },
        "id": "5Z6qxHzUJX7_",
        "outputId": "080a48d5-4933-4fec-c247-bb72bd221cee"
      },
      "source": [
        "import numpy\n",
        "\n",
        "n,m = map(int,input().split())\n",
        "\n",
        "lst = []\n",
        "\n",
        "for i in range(n):\n",
        "    a = list(map(int,input().split()))\n",
        "    lst.append(a)\n",
        "    \n",
        "A = numpy.array(lst)\n",
        "\n",
        "sums = numpy.sum(A, axis=0)\n",
        "\n",
        "print(numpy.prod(sums))\n"
      ],
      "execution_count": 9,
      "outputs": [
        {
          "output_type": "stream",
          "name": "stdout",
          "text": [
            "2 2\n",
            "1 2\n",
            "3 4\n",
            "24\n"
          ]
        }
      ]
    },
    {
      "cell_type": "markdown",
      "metadata": {
        "id": "3097DLDNJeDF"
      },
      "source": [
        "# Task-10 : "
      ]
    },
    {
      "cell_type": "markdown",
      "metadata": {
        "id": "jB5h7wslJkO0"
      },
      "source": [
        "You are given a 2-D array with dimensions N x M.\n",
        "Your task is to perform the min function over axis 1 and then find the max of that."
      ]
    },
    {
      "cell_type": "code",
      "metadata": {
        "colab": {
          "base_uri": "https://localhost:8080/"
        },
        "id": "HwcL6ZDrJmuL",
        "outputId": "65d49c1a-6b8b-470b-bf0d-77d70fc70ea2"
      },
      "source": [
        "import numpy\n",
        "\n",
        "n,m = map(int,input().split())\n",
        "\n",
        "lst = []\n",
        "\n",
        "for i in range(n):\n",
        "    a = list(map(int,input().split()))\n",
        "    lst.append(a)\n",
        "    \n",
        "A = numpy.array(lst)\n",
        "\n",
        "minimum = numpy.min(A,axis=1)\n",
        "\n",
        "print(numpy.max(minimum))\n",
        "\n"
      ],
      "execution_count": 10,
      "outputs": [
        {
          "output_type": "stream",
          "name": "stdout",
          "text": [
            "4 2\n",
            "2 5\n",
            "3 7\n",
            "1 3\n",
            "4 0\n",
            "3\n"
          ]
        }
      ]
    },
    {
      "cell_type": "markdown",
      "metadata": {
        "id": "XnH4Z5wBJvOW"
      },
      "source": [
        "# Task-11 : Mean, Var, and Std\n",
        "\n"
      ]
    },
    {
      "cell_type": "markdown",
      "metadata": {
        "id": "B2kZRX3kJ8oC"
      },
      "source": [
        "You are given a 2-D array of size N x M.\n",
        "Your task is to find:\n",
        "\n",
        "1. The mean along axis 1.\n",
        "2. The var along axis 0. \n",
        "3. The std along axis None."
      ]
    },
    {
      "cell_type": "code",
      "metadata": {
        "colab": {
          "base_uri": "https://localhost:8080/"
        },
        "id": "6pOGYlDpKHHu",
        "outputId": "58e47280-3008-412e-b0b6-cefe8b9d843c"
      },
      "source": [
        "import numpy\n",
        "\n",
        "n,m = map(int,input().split())\n",
        "\n",
        "lst = []\n",
        "for i in range(n):\n",
        "    a = list(map(int,input().split()))\n",
        "    lst.append(a)\n",
        "    \n",
        "A = numpy.array(lst,float)\n",
        "\n",
        "print(numpy.mean(A,axis=1))\n",
        "print(numpy.var(A,axis=0))\n",
        "print(round(numpy.std(A),11))"
      ],
      "execution_count": 11,
      "outputs": [
        {
          "output_type": "stream",
          "name": "stdout",
          "text": [
            "2 2\n",
            "1 2\n",
            "3 4\n",
            "[ 1.5  3.5]\n",
            "[ 1.  1.]\n",
            "1.11803398875\n"
          ]
        }
      ]
    },
    {
      "cell_type": "markdown",
      "metadata": {
        "id": "Ko79u_VbKOPo"
      },
      "source": [
        "# Task-12 : Dot and Cross\n",
        "\n"
      ]
    },
    {
      "cell_type": "markdown",
      "metadata": {
        "id": "fhKaVdYbKTwx"
      },
      "source": [
        "You are given two arrays A and B. Both have dimensions of N x N.\n",
        "Your task is to compute their matrix product."
      ]
    },
    {
      "cell_type": "code",
      "metadata": {
        "colab": {
          "base_uri": "https://localhost:8080/"
        },
        "id": "WQSxCa6_KZ3K",
        "outputId": "dbbe18b4-97e6-470b-9592-d31d8fd342d6"
      },
      "source": [
        "import numpy\n",
        "\n",
        "n = int(input())\n",
        "\n",
        "lst = []\n",
        "\n",
        "for i in range(n):\n",
        "    a = list(map(int,input().split()))\n",
        "    lst.append(a)\n",
        "\n",
        "A = numpy.array(lst)\n",
        "\n",
        "lst1 = []\n",
        "for i in range(n):\n",
        "    a = list(map(int,input().split()))\n",
        "    lst1.append(a)\n",
        "    \n",
        "B = numpy.array(lst1)\n",
        "\n",
        "print(numpy.dot(A,B))"
      ],
      "execution_count": 12,
      "outputs": [
        {
          "output_type": "stream",
          "name": "stdout",
          "text": [
            "2\n",
            "1 2\n",
            "3 4\n",
            "1 2\n",
            "3 4\n",
            "[[ 7 10]\n",
            " [15 22]]\n"
          ]
        }
      ]
    },
    {
      "cell_type": "markdown",
      "metadata": {
        "id": "AqSI1bIwKhSJ"
      },
      "source": [
        "# Task-13 : Inner and Outer\n",
        "\n"
      ]
    },
    {
      "cell_type": "markdown",
      "metadata": {
        "id": "hKoMwR8RKm3O"
      },
      "source": [
        "You are given two arrays: A and B.\n",
        "Your task is to compute their inner and outer product."
      ]
    },
    {
      "cell_type": "code",
      "metadata": {
        "colab": {
          "base_uri": "https://localhost:8080/"
        },
        "id": "M9Q8GIveKqy4",
        "outputId": "0cd115b2-3565-4133-998d-17f73bcdd4c5"
      },
      "source": [
        "import numpy\n",
        "\n",
        "A = numpy.array(list(map(int,input().split())))\n",
        "B = numpy.array(list(map(int,input().split())))\n",
        "\n",
        "print(numpy.inner(A,B)) # The inner tool returns the inner product of two arrays.\n",
        "print(numpy.outer(A,B)) # The outer tool returns the outer product of two arrays.\n",
        "\n"
      ],
      "execution_count": 13,
      "outputs": [
        {
          "output_type": "stream",
          "name": "stdout",
          "text": [
            "0 1\n",
            "1 2\n",
            "2\n",
            "[[0 0]\n",
            " [1 2]]\n"
          ]
        }
      ]
    },
    {
      "cell_type": "markdown",
      "metadata": {
        "id": "qowPkw6QK_iE"
      },
      "source": [
        "# Task-14 : Polynomials"
      ]
    },
    {
      "cell_type": "markdown",
      "metadata": {
        "id": "Zx71CUhmLE7v"
      },
      "source": [
        "You are given the coefficients of a polynomial P.\n",
        "Your task is to find the value of P at point x."
      ]
    },
    {
      "cell_type": "code",
      "metadata": {
        "colab": {
          "base_uri": "https://localhost:8080/"
        },
        "id": "Tezr9BqNLKiE",
        "outputId": "960f910a-d1f1-4134-c6d2-7383b7e3b38f"
      },
      "source": [
        "import numpy\n",
        "\n",
        "# Value of coefficient\n",
        "p = list(map(float,input().split()))\n",
        "\n",
        "# Specific value\n",
        "x = int(input())\n",
        "\n",
        "print(numpy.polyval(p,x))"
      ],
      "execution_count": 14,
      "outputs": [
        {
          "output_type": "stream",
          "name": "stdout",
          "text": [
            "1.1 2 3\n",
            "0\n",
            "3.0\n"
          ]
        }
      ]
    },
    {
      "cell_type": "markdown",
      "metadata": {
        "id": "71cW_YmsLRqk"
      },
      "source": [
        "# Task-15 : Linear Algebra\n",
        "\n"
      ]
    },
    {
      "cell_type": "markdown",
      "metadata": {
        "id": "35FtpiXbLXpV"
      },
      "source": [
        "You are given a square matrix A with dimensions N x N. Your task is to find the determinant. Note: Round the answer to 2 places after the decimal."
      ]
    },
    {
      "cell_type": "code",
      "metadata": {
        "colab": {
          "base_uri": "https://localhost:8080/"
        },
        "id": "Wdc18SmgLcdE",
        "outputId": "76e0f539-b2c6-4f6c-fd0a-e12a1bc95c9b"
      },
      "source": [
        "import numpy\n",
        "\n",
        "n = int(input()) # Number of dimension of array\n",
        "\n",
        "lst = [] # Empty list\n",
        "\n",
        "for i in range(n):\n",
        "    a = list(map(float,input().split()))\n",
        "    lst.append(a)\n",
        "\n",
        "# Array A    \n",
        "A = numpy.array(lst)\n",
        "\n",
        "print(round((numpy.linalg.det(A)),2)) # Determinent of array A.\n"
      ],
      "execution_count": 15,
      "outputs": [
        {
          "output_type": "stream",
          "name": "stdout",
          "text": [
            "2\n",
            "1.1 1.1\n",
            "1.1 1.1\n",
            "0.0\n"
          ]
        }
      ]
    }
  ]
}