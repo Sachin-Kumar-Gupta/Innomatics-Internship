{
  "nbformat": 4,
  "nbformat_minor": 0,
  "metadata": {
    "colab": {
      "name": "Untitled27.ipynb",
      "provenance": []
    },
    "kernelspec": {
      "name": "python3",
      "display_name": "Python 3"
    },
    "language_info": {
      "name": "python"
    }
  },
  "cells": [
    {
      "cell_type": "markdown",
      "source": [
        "# Detect Floating Point Number"
      ],
      "metadata": {
        "id": "IFItobLL_Juu"
      }
    },
    {
      "cell_type": "markdown",
      "source": [
        "You are given a string N.\n",
        "Your task is to verify that N is a floating point number.\n",
        "\n",
        "In this task, a valid float number must satisfy all of the following requirements:\n",
        "1.  Number can start with +, - or . symbol.\n",
        "2. Number must contain at least  decimal value.\n",
        "3.  Number must have exactly one . symbol.\n",
        "4. Number must not give any exceptions when converted using float(N) ."
      ],
      "metadata": {
        "id": "A4_ux2Hn_R-S"
      }
    },
    {
      "cell_type": "code",
      "execution_count": 1,
      "metadata": {
        "colab": {
          "base_uri": "https://localhost:8080/"
        },
        "id": "XhQZ6BId_HbG",
        "outputId": "9b9f4aeb-dc31-40fd-acf4-9450831f7856"
      },
      "outputs": [
        {
          "output_type": "stream",
          "name": "stdout",
          "text": [
            "4\n",
            "4.0O0\n",
            "False\n",
            "-1.00\n",
            "True\n",
            "+4.54\n",
            "True\n",
            "SomeRandomStuff\n",
            "False\n"
          ]
        }
      ],
      "source": [
        "T = int(input())\n",
        "\n",
        "import re\n",
        "\n",
        "for i in range(T) :\n",
        "    N = input()\n",
        "    print(bool(re.match(r\"[+-]?[0-9]*\\.[0-9]+$\",N)))"
      ]
    },
    {
      "cell_type": "markdown",
      "source": [
        "# Re.split()"
      ],
      "metadata": {
        "id": "svyJHMCS_vTq"
      }
    },
    {
      "cell_type": "markdown",
      "source": [
        "You are given a string s consisting only of digits 0-9, commas ,, and dots .\n",
        "\n",
        "Your task is to complete the regex_pattern defined below, which will be used to re.split() all of the , and . symbols in s.\n",
        "\n",
        "It’s guaranteed that every comma and every dot in s is preceeded and followed by a digit."
      ],
      "metadata": {
        "id": "K2ZcOl_1AQYB"
      }
    },
    {
      "cell_type": "code",
      "source": [
        "regex_pattern = r\"[^0-9]\"\t# Do not delete 'r'.\n",
        "\n",
        "import re\n",
        "print(\"\\n\".join(re.split(regex_pattern, input())))"
      ],
      "metadata": {
        "colab": {
          "base_uri": "https://localhost:8080/"
        },
        "id": "BHXYG6N6_u0u",
        "outputId": "95a78037-46b5-454b-c0be-31316a6d8535"
      },
      "execution_count": 2,
      "outputs": [
        {
          "output_type": "stream",
          "name": "stdout",
          "text": [
            "100,000,000.000\n",
            "100\n",
            "000\n",
            "000\n",
            "000\n"
          ]
        }
      ]
    },
    {
      "cell_type": "markdown",
      "source": [
        "# Group(), Groups() & Groupdict()"
      ],
      "metadata": {
        "id": "d6h4Wd8bAheb"
      }
    },
    {
      "cell_type": "markdown",
      "source": [
        "You are given a string S.\n",
        "Your task is to find the first occurrence of an alphanumeric character in S (read from left to right) that has consecutive repetitions."
      ],
      "metadata": {
        "id": "ozDjP4XeAid0"
      }
    },
    {
      "cell_type": "code",
      "source": [
        "import re\n",
        "\n",
        "string = input()\n",
        "\n",
        "lst =re.search(r\"([a-z0-9])\\1+\",string)\n",
        "\n",
        "print(lst.group(1) if lst else -1)\n"
      ],
      "metadata": {
        "colab": {
          "base_uri": "https://localhost:8080/"
        },
        "id": "N55aVNDr_uwf",
        "outputId": "2e42ae7a-e7ef-4259-c3b1-a3859aca6721"
      },
      "execution_count": 3,
      "outputs": [
        {
          "output_type": "stream",
          "name": "stdout",
          "text": [
            "..12345678910111213141516171820212223\n",
            "1\n"
          ]
        }
      ]
    },
    {
      "cell_type": "markdown",
      "source": [
        "# Re.findall() & Re.finditer()"
      ],
      "metadata": {
        "id": "tgdM836jAvQX"
      }
    },
    {
      "cell_type": "markdown",
      "source": [
        "You are given a string S. It consists of alphanumeric characters, spaces and symbols(+,-).\n",
        "Your task is to find all the substrings of S that contains 2 or more vowels.\n",
        "Also, these substrings must lie in between 2 consonants and should contain vowels only."
      ],
      "metadata": {
        "id": "dD1Nh36RA0W5"
      }
    },
    {
      "cell_type": "code",
      "source": [
        "import re\n",
        "\n",
        "string = input()\n",
        "\n",
        "m = re.findall(r'[b-df-hj-np-tv-z]([aeiou]{2,})(?=[b-df-hj-np-tv-z])', string, flags = re.I)\n",
        "print('\\n'.join(m or ['-1']))\n"
      ],
      "metadata": {
        "colab": {
          "base_uri": "https://localhost:8080/"
        },
        "id": "nN8TZVYM_usF",
        "outputId": "943e083e-9007-45bd-9499-34604c6d9788"
      },
      "execution_count": 4,
      "outputs": [
        {
          "output_type": "stream",
          "name": "stdout",
          "text": [
            "rabcdeefgyYhFjkIoomnpOeorteeeeet\n",
            "ee\n",
            "Ioo\n",
            "Oeo\n",
            "eeeee\n"
          ]
        }
      ]
    },
    {
      "cell_type": "markdown",
      "source": [
        "# Re.start() & Re.end()"
      ],
      "metadata": {
        "id": "tynXT6CKBEfb"
      }
    },
    {
      "cell_type": "markdown",
      "source": [
        "You are given a string S.\n",
        "Your task is to find the indices of the start and end of string k in S."
      ],
      "metadata": {
        "id": "3y9LEGXxBFac"
      }
    },
    {
      "cell_type": "code",
      "source": [
        "import re\n",
        "\n",
        "S = input()\n",
        "k = input()\n",
        "\n",
        "m = re.search(k,S)\n",
        "\n",
        "if m:\n",
        "    i = 0\n",
        "    while (i+len(k))<len(S):\n",
        "        m = re.search(k,S[i:])\n",
        "        print(\"({0}, {1})\".format(i+m.start(), i+m.end() - 1))\n",
        "        i += m.start()+1\n",
        "else:\n",
        "    print((-1,-1))\n"
      ],
      "metadata": {
        "colab": {
          "base_uri": "https://localhost:8080/"
        },
        "id": "zztYQOK6_uoB",
        "outputId": "d2b56743-80d9-4658-d574-998e8ac93e1b"
      },
      "execution_count": 5,
      "outputs": [
        {
          "output_type": "stream",
          "name": "stdout",
          "text": [
            "aaadaa\n",
            "aa\n",
            "(0, 1)\n",
            "(1, 2)\n",
            "(4, 5)\n"
          ]
        }
      ]
    },
    {
      "cell_type": "markdown",
      "source": [
        "# Regex Substitution"
      ],
      "metadata": {
        "id": "8AyO-v33BTmq"
      }
    },
    {
      "cell_type": "markdown",
      "source": [
        "You are given a text of N lines. The text contains && and || symbols.\n",
        "Your task is to modify those symbols to the following:\n",
        "> && -> and\n",
        "\n",
        "> || -> or\n",
        "\n",
        "Both && and || should have a space \" \" on both sides."
      ],
      "metadata": {
        "id": "Z0GhlR0dBUtF"
      }
    },
    {
      "cell_type": "code",
      "source": [
        "import re\n",
        "\n",
        "lines = int(input())\n",
        "\n",
        "for i in range(lines):\n",
        "    text = input()\n",
        "    texts = re.sub(r'(?<=\\s)&&(?=\\s)', 'and', text)\n",
        "    new_text = re.sub(r'(?<=\\s)[|]{2}(?=\\s)', 'or', texts)\n",
        "    print(new_text)\n",
        "    "
      ],
      "metadata": {
        "colab": {
          "base_uri": "https://localhost:8080/"
        },
        "id": "r2hYaryZ_ukO",
        "outputId": "2d9876ff-24e8-46a4-91f2-01534623f00a"
      },
      "execution_count": 6,
      "outputs": [
        {
          "output_type": "stream",
          "name": "stdout",
          "text": [
            "11\n",
            "a = 1;\n",
            "a = 1;\n",
            "b = input();\n",
            "b = input();\n",
            "if a + b > 0 && a - b < 0:\n",
            "if a + b > 0 and a - b < 0:\n",
            "    start()\n",
            "    start()\n",
            "elif a*b > 10 || a/b < 1:\n",
            "elif a*b > 10 or a/b < 1:\n",
            "    stop()\n",
            "    stop()\n",
            "print set(list(a)) | set(list(b)) \n",
            "print set(list(a)) | set(list(b)) \n",
            "#Note do not change &&& or ||| or & or |\n",
            "#Note do not change &&& or ||| or & or |\n",
            "#Only change those '&&' which have space on both sides.\n",
            "#Only change those '&&' which have space on both sides.\n",
            "#Only change those '|| which have space on both sides.\n",
            "#Only change those '|| which have space on both sides.\n",
            "\n",
            "\n"
          ]
        }
      ]
    },
    {
      "cell_type": "markdown",
      "source": [
        "# Validating Roman Numerals"
      ],
      "metadata": {
        "id": "JfWq-kWHCP7z"
      }
    },
    {
      "cell_type": "markdown",
      "source": [
        "You are given a string, and you have to validate whether it's a valid Roman numeral. If it is valid, print True. Otherwise, print False. Try to create a regular expression for a valid Roman numeral."
      ],
      "metadata": {
        "id": "-lByQGFLCQ52"
      }
    },
    {
      "cell_type": "code",
      "source": [
        "regex_pattern = r'^M{0,3}(D?C{0,3}|C(D|M))(L?X{0,3}|X(L|C))(V?I{0,3}|I(V|X))$'\t# Do not delete 'r'.\n",
        "\n",
        "import re\n",
        "print(str(bool(re.match(regex_pattern, input()))))"
      ],
      "metadata": {
        "colab": {
          "base_uri": "https://localhost:8080/"
        },
        "id": "LHd8FzPs_ugB",
        "outputId": "450680d1-068f-4996-9315-150e10ba3f9c"
      },
      "execution_count": 7,
      "outputs": [
        {
          "output_type": "stream",
          "name": "stdout",
          "text": [
            "CDXXI\n",
            "True\n"
          ]
        }
      ]
    },
    {
      "cell_type": "markdown",
      "source": [
        "# Validating phone numbers"
      ],
      "metadata": {
        "id": "Q7DXFB_kCYp0"
      }
    },
    {
      "cell_type": "markdown",
      "source": [
        "Let's dive into the interesting topic of regular expressions! You are given some input, and you are required to check whether they are valid mobile numbers.\n",
        "\n",
        "A valid mobile number is a ten digit number starting with a 7,8 or 9 ."
      ],
      "metadata": {
        "id": "PKjwKbTXCdqn"
      }
    },
    {
      "cell_type": "code",
      "source": [
        "import re\n",
        "\n",
        "num = int(input())\n",
        "\n",
        "for i in range(num) :\n",
        "    phn_no = input()\n",
        "    \n",
        "    validation = re.match(r'[789]\\d{9}$', phn_no)\n",
        "    \n",
        "    if validation :\n",
        "        print(\"YES\")\n",
        "    else:\n",
        "        print(\"NO\")\n"
      ],
      "metadata": {
        "colab": {
          "base_uri": "https://localhost:8080/"
        },
        "id": "goz3abXn_ucH",
        "outputId": "4fa45052-507f-4aa5-a7aa-a2aadf7e198c"
      },
      "execution_count": 8,
      "outputs": [
        {
          "output_type": "stream",
          "name": "stdout",
          "text": [
            "2\n",
            "9587456281\n",
            "YES\n",
            "1252478965\n",
            "NO\n"
          ]
        }
      ]
    },
    {
      "cell_type": "markdown",
      "source": [
        "# Validating and Parsing Email Addresses"
      ],
      "metadata": {
        "id": "mxTi_cdgCpeB"
      }
    },
    {
      "cell_type": "markdown",
      "source": [
        "A valid email address meets the following criteria:\n",
        "\n",
        "It's composed of a username, domain name, and extension assembled in this format: username@domain.extension\n",
        "The username starts with an English alphabetical character, and any subsequent characters consist of one or more of the following: alphanumeric characters, -,., and _.\n",
        "The domain and extension contain only English alphabetical characters.\n",
        "The extension is 1, 2 or 3 characters in length.\n",
        "Given n pairs of names and email addresses as input, print each name and email address pair having a valid email address on a new line."
      ],
      "metadata": {
        "id": "FWBwcWEZCuEd"
      }
    },
    {
      "cell_type": "code",
      "source": [
        "import re, email.utils\n",
        "\n",
        "n = int(input())\n",
        "\n",
        "for i in range(n):\n",
        "    name, emails = email.utils.parseaddr(input())\n",
        " \n",
        "    m = re.match(r'^[A-Za-z](\\w|-|\\.)+@[A-Za-z]+\\.[A-Za-z]{1,3}$',emails)\n",
        "    if m:\n",
        "        print(email.utils.formataddr((name,emails)))\n"
      ],
      "metadata": {
        "colab": {
          "base_uri": "https://localhost:8080/"
        },
        "id": "gO7oBPa4_uXu",
        "outputId": "f7d1ded3-e98a-4e17-bab2-783db8e54b1e"
      },
      "execution_count": 9,
      "outputs": [
        {
          "name": "stdout",
          "output_type": "stream",
          "text": [
            "2\n",
            "DEXTER <dexter@hotmail.com>\n",
            "DEXTER <dexter@hotmail.com>\n",
            "VIRUS <virus!@variable.:p>\n"
          ]
        }
      ]
    },
    {
      "cell_type": "markdown",
      "source": [
        "# Hex Color Code"
      ],
      "metadata": {
        "id": "2WKya1Y1DLzt"
      }
    },
    {
      "cell_type": "markdown",
      "source": [
        "You are given N lines of CSS code. Your task is to print all valid Hex Color Codes, in order of their occurrence from top to bottom."
      ],
      "metadata": {
        "id": "RR-6MTQSDNAB"
      }
    },
    {
      "cell_type": "code",
      "source": [
        "import re\n",
        "\n",
        "N = int(input())\n",
        "for i in range(N):\n",
        "    code = input()\n",
        "    m= re.findall(r'(?!^)#([a-f0-9]{6}|[a-f0-9]{3})',code,re.IGNORECASE)\n",
        "    if m:\n",
        "        for j in m:\n",
        "            print('#'+j)\n"
      ],
      "metadata": {
        "colab": {
          "base_uri": "https://localhost:8080/"
        },
        "id": "2XxuyYX4_uTR",
        "outputId": "ade4aa69-6ce4-4e10-8519-a96563f741c0"
      },
      "execution_count": 10,
      "outputs": [
        {
          "name": "stdout",
          "output_type": "stream",
          "text": [
            "11\n",
            "#BED\n",
            "{\n",
            "    color: #FfFdF8; background-color:#aef;\n",
            "#FfFdF8\n",
            "#aef\n",
            "    font-size: 123px;\n",
            "    background: -webkit-linear-gradient(top, #f9f9f9, #fff); \n",
            "#f9f9f9\n",
            "#fff\n",
            "}\n",
            "#Cab\n",
            "{\n",
            "    background-color: #ABC;\n",
            "#ABC\n",
            "    border: 2px dashed #fff;\n",
            "#fff\n",
            "}\n"
          ]
        }
      ]
    },
    {
      "cell_type": "markdown",
      "source": [
        "# HTML Parser - Part 1"
      ],
      "metadata": {
        "id": "puA3elEVDy_X"
      }
    },
    {
      "cell_type": "markdown",
      "source": [
        "You are given an HTML code snippet of N lines.\n",
        "Your task is to print start tags, end tags and empty tags separately.\n",
        "\n"
      ],
      "metadata": {
        "id": "PPmPjI8nD46G"
      }
    },
    {
      "cell_type": "code",
      "source": [
        "from html.parser import HTMLParser\n",
        "\n",
        "lines = int(input())\n",
        "            \n",
        "class HtmlParser(HTMLParser):\n",
        "    def handle_starttag(self, tag, attrs):\n",
        "        print (\"Start :\", tag)\n",
        "        for attr in attrs:\n",
        "            print('-> {0} > {1}'.format(attr[0], attr[1]))\n",
        "            \n",
        "    def handle_endtag(self, tag):\n",
        "        print (\"End   :\", tag)\n",
        "        \n",
        "    def handle_startendtag(self, tag, attrs):\n",
        "        print (\"Empty :\", tag)\n",
        "        for attr in attrs:\n",
        "            print('-> {0} > {1}'.format(attr[0], attr[1]))\n",
        "parser = HtmlParser()\n",
        "parser.feed(\"\".join([input().strip() for x in range(lines)]))\n"
      ],
      "metadata": {
        "colab": {
          "base_uri": "https://localhost:8080/"
        },
        "id": "GLzQNEsv_uOS",
        "outputId": "8d61d665-1ac2-4170-8b2a-b4d7ced12c08"
      },
      "execution_count": 11,
      "outputs": [
        {
          "output_type": "stream",
          "name": "stdout",
          "text": [
            "2\n",
            "<html><head><title>HTML Parser - I</title></head>\n",
            "<body data-modal-target class='1'><h1>HackerRank</h1><br /></body></html>\n",
            "Start : html\n",
            "Start : head\n",
            "Start : title\n",
            "End   : title\n",
            "End   : head\n",
            "Start : body\n",
            "-> data-modal-target > None\n",
            "-> class > 1\n",
            "Start : h1\n",
            "End   : h1\n",
            "Empty : br\n",
            "End   : body\n",
            "End   : html\n"
          ]
        }
      ]
    },
    {
      "cell_type": "markdown",
      "source": [
        "# HTML Parser - Part 2"
      ],
      "metadata": {
        "id": "t5Nr2_TNEIUL"
      }
    },
    {
      "cell_type": "markdown",
      "source": [
        "You are given an HTML code snippet of N lines.\n",
        "Your task is to print the single-line comments, multi-line comments and the data."
      ],
      "metadata": {
        "id": "2j71aPlFENpn"
      }
    },
    {
      "cell_type": "code",
      "source": [
        "from html.parser import HTMLParser\n",
        "\n",
        "class MyHTMLParser(HTMLParser):\n",
        "    def handle_comment(self, data):\n",
        "        if '\\n' in data:\n",
        "            print(\">>> Multi-line Comment\")\n",
        "        else :\n",
        "            print(\">>> Single-line Comment\")\n",
        "        print(data)\n",
        "        \n",
        "    def handle_data(self, data):\n",
        "        if  data == '\\n':\n",
        "            return None\n",
        "        else:\n",
        "            print(\">>> Data\")\n",
        "        print(data)\n",
        "    \n",
        "html = \"\"       \n",
        "for i in range(int(input())):\n",
        "    html += input().rstrip()\n",
        "    html += '\\n'\n",
        "    \n",
        "parser = MyHTMLParser()\n",
        "parser.feed(html)\n",
        "parser.close()\n"
      ],
      "metadata": {
        "colab": {
          "base_uri": "https://localhost:8080/"
        },
        "id": "aGZ_pfCyEQ1q",
        "outputId": "ea122999-20bd-426a-fd05-d1ae29aa0ed6"
      },
      "execution_count": 12,
      "outputs": [
        {
          "output_type": "stream",
          "name": "stdout",
          "text": [
            "4\n",
            "<!--[if IE 9]>IE9-specific content\n",
            "<![endif]-->\n",
            "<div> Welcome to HackerRank</div>\n",
            "<!--[if IE 9]>IE9-specific content<![endif]-->\n",
            ">>> Multi-line Comment\n",
            "[if IE 9]>IE9-specific content\n",
            "<![endif]\n",
            ">>> Data\n",
            " Welcome to HackerRank\n",
            ">>> Single-line Comment\n",
            "[if IE 9]>IE9-specific content<![endif]\n"
          ]
        }
      ]
    },
    {
      "cell_type": "markdown",
      "source": [
        "# Detect HTML Tags, Attributes and Attribute Values"
      ],
      "metadata": {
        "id": "Z9MKyvgmEchZ"
      }
    },
    {
      "cell_type": "markdown",
      "source": [
        "You are given an HTML code snippet of N lines.\n",
        "Your task is to detect and print all the HTML tags, attributes and attribute values."
      ],
      "metadata": {
        "id": "_Okx_PPuEhfo"
      }
    },
    {
      "cell_type": "code",
      "source": [
        "from html.parser import HTMLParser\n",
        "\n",
        "lines = int(input())\n",
        "\n",
        "class HtmlParser(HTMLParser):\n",
        "    def handle_starttag(self, tag, attrs):\n",
        "        print(tag)\n",
        "        for attr in attrs:\n",
        "            print(\"-> {} > {}\".format(*attr))\n",
        "            \n",
        "html = '\\n'.join([input() for x in range(lines)])\n",
        "\n",
        "parser = HtmlParser()\n",
        "parser.feed(html)\n",
        "parser.close()\n"
      ],
      "metadata": {
        "colab": {
          "base_uri": "https://localhost:8080/"
        },
        "id": "xcBhfXPCElVe",
        "outputId": "e7a8a396-82e8-4d40-adef-c4fed1c2d67c"
      },
      "execution_count": 13,
      "outputs": [
        {
          "output_type": "stream",
          "name": "stdout",
          "text": [
            "9\n",
            "<head>\n",
            "<title>HTML</title>\n",
            "</head>\n",
            "<object type=\"application/x-flash\" \n",
            "  data=\"your-file.swf\" \n",
            "  width=\"0\" height=\"0\">\n",
            "  <!-- <param name=\"movie\" value=\"your-file.swf\" /> -->\n",
            "  <param name=\"quality\" value=\"high\"/>\n",
            "</object>\n",
            "head\n",
            "title\n",
            "object\n",
            "-> type > application/x-flash\n",
            "-> data > your-file.swf\n",
            "-> width > 0\n",
            "-> height > 0\n",
            "param\n",
            "-> name > quality\n",
            "-> value > high\n"
          ]
        }
      ]
    },
    {
      "cell_type": "markdown",
      "source": [
        "# Validating UID"
      ],
      "metadata": {
        "id": "WDWHd2QJEkjq"
      }
    },
    {
      "cell_type": "markdown",
      "source": [
        "ABCXYZ company has up to 100 employees.\n",
        "The company decides to create a unique identification number (UID) for each of its employees.\n",
        "The company has assigned you the task of validating all the randomly generated UIDs.\n",
        "\n",
        "A valid UID must follow the rules below:\n",
        "\n",
        "1. It must contain at least 2 uppercase English alphabet characters.\n",
        "2. It must contain at least 3 digits ( 0-9 ).\n",
        "3. It should only contain alphanumeric characters ( A-Z ,  a-z  &  0-9 ).\n",
        "4. No character should repeat.\n",
        "5. There must be exactly  characters in a valid UID."
      ],
      "metadata": {
        "id": "ijOY5PxQE-6t"
      }
    },
    {
      "cell_type": "code",
      "source": [
        "import re\n",
        "\n",
        "ids = int(input())\n",
        "\n",
        "for i in range(ids):\n",
        "    uid = input()\n",
        "    if len(uid)==10:\n",
        "        m = re.match(r'^(?=(?:.*[A-Z]){2,})(?=(?:.*\\d){3,})(?:(\\w)(?!.*\\1)){10}$', uid)\n",
        "        if m:\n",
        "            print(\"Valid\")\n",
        "        else:\n",
        "            print(\"Invalid\")\n",
        "    else:\n",
        "        print(\"Invalid\")\n"
      ],
      "metadata": {
        "colab": {
          "base_uri": "https://localhost:8080/"
        },
        "id": "An7Dcs9JFMJC",
        "outputId": "a78d2e71-c737-478c-9cec-4b3527dbc95b"
      },
      "execution_count": 14,
      "outputs": [
        {
          "output_type": "stream",
          "name": "stdout",
          "text": [
            "2\n",
            "B1CD102354\n",
            "Invalid\n",
            "B1CDEF2354\n",
            "Valid\n"
          ]
        }
      ]
    },
    {
      "cell_type": "markdown",
      "source": [
        "# Validating Credit Card Numbers"
      ],
      "metadata": {
        "id": "v9hx9s1OFY-O"
      }
    },
    {
      "cell_type": "markdown",
      "source": [
        "You and Fredrick are good friends. Yesterday, Fredrick received N credit cards from ABCD Bank. He wants to verify whether his credit card numbers are valid or not. You happen to be great at regex so he is asking for your help!\n",
        "\n",
        "A valid credit card from ABCD Bank has the following characteristics:\n",
        "\n",
        "1. It must start with a 4,5 or 6.\n",
        "2. It must contain exactly 16 digits.\n",
        "3. It must only consist of digits (0-9).\n",
        "4. It may have digits in groups of 4, separated by one hyphen \"-\".\n",
        "5. It must NOT use any other separator like ' ' , '_', etc.\n",
        "6. It must NOT have 4 or more consecutive repeated digits."
      ],
      "metadata": {
        "id": "IvyR0GkRFdEi"
      }
    },
    {
      "cell_type": "code",
      "source": [
        "import re\n",
        "\n",
        "num = int(input())\n",
        "\n",
        "for i in range(num):\n",
        "    cc = input()\n",
        "    if len(cc.replace(\"-\",\"\"))==16:\n",
        "        m = re.match(r'^[456](([\\d]{15}|[\\d]{3}(-[\\d]{4}){3}))$',cc)\n",
        "        if m and not re.search(r\"([\\d])\\1\\1\\1\", cc.replace(\"-\", \"\")):\n",
        "            print(\"Valid\")\n",
        "        else:\n",
        "            print(\"Invalid\")\n",
        "    else:\n",
        "        print(\"Invalid\")\n",
        "            \n"
      ],
      "metadata": {
        "colab": {
          "base_uri": "https://localhost:8080/"
        },
        "id": "RqRfFyweFzk1",
        "outputId": "c51c854b-f08f-4a82-bee4-4b535437685b"
      },
      "execution_count": 15,
      "outputs": [
        {
          "output_type": "stream",
          "name": "stdout",
          "text": [
            "3\n",
            "4123456789123456\n",
            "Valid\n",
            "5123-4567-8912-3456\n",
            "Valid\n",
            "61234-567-8912-3456\n",
            "Invalid\n"
          ]
        }
      ]
    },
    {
      "cell_type": "markdown",
      "source": [
        "# Validating Postal Codes"
      ],
      "metadata": {
        "id": "n4_4y2joF-p9"
      }
    },
    {
      "cell_type": "markdown",
      "source": [
        "A valid postal code P have to fullfil both below requirements:\n",
        "\n",
        "1. P must be a number in the range from 100000 to 999999 inclusive.\n",
        "2. P must not contain more than one alternating repetitive digit pair.\n",
        "\n",
        "Alternating repetitive digits are digits which repeat immediately after the next digit. In other words, an alternating repetitive digit pair is formed by two equal digits that have just a single digit between them."
      ],
      "metadata": {
        "id": "Wzm9fuwgGC8Q"
      }
    },
    {
      "cell_type": "code",
      "source": [
        "regex_integer_in_range =  r\"^[1-9][\\d]{5}$\"\t# Do not delete 'r'.\n",
        "regex_alternating_repetitive_digit_pair = r\"(\\d)(?=\\d\\1)\"\t# Do not delete 'r'.\n",
        "\n",
        "\n",
        "import re\n",
        "P = input()\n",
        "\n",
        "print (bool(re.match(regex_integer_in_range, P)) \n",
        "and len(re.findall(regex_alternating_repetitive_digit_pair, P)) < 2)"
      ],
      "metadata": {
        "colab": {
          "base_uri": "https://localhost:8080/"
        },
        "id": "H2QNvL3-GWsL",
        "outputId": "4910aa9f-6fda-4abc-c6b8-3ba925beffb5"
      },
      "execution_count": 16,
      "outputs": [
        {
          "output_type": "stream",
          "name": "stdout",
          "text": [
            "110000\n",
            "False\n"
          ]
        }
      ]
    },
    {
      "cell_type": "markdown",
      "source": [
        "# Matrix Script"
      ],
      "metadata": {
        "id": "rbiTU9p4GeCf"
      }
    },
    {
      "cell_type": "markdown",
      "source": [
        "Neo has a complex matrix script. The matrix script is a NxM grid of strings. It consists of alphanumeric characters, spaces and symbols (!,@,#,$,%,&).\n",
        "\n",
        "To decode the script, Neo needs to read each column and select only the alphanumeric characters and connect them. Neo reads the column from top to bottom and starts reading from the leftmost column.\n",
        "\n",
        "If there are symbols or spaces between two alphanumeric characters of the decoded script, then Neo replaces them with a single space '' for better readability.\n",
        "\n",
        "Neo feels that there is no need to use 'if' conditions for decoding.\n",
        "\n",
        "Alphanumeric characters consist of: [A-Z, a-z, and 0-9]."
      ],
      "metadata": {
        "id": "ughtjLInGjR_"
      }
    },
    {
      "cell_type": "code",
      "source": [
        "\n",
        "import math\n",
        "import os\n",
        "import random\n",
        "import re\n",
        "import sys\n",
        "\n",
        "\n",
        "\n",
        "\n",
        "first_multiple_input = input().rstrip().split()\n",
        "\n",
        "n = int(first_multiple_input[0])\n",
        "\n",
        "m = int(first_multiple_input[1])\n",
        "\n",
        "matrix = []\n",
        "\n",
        "for _ in range(n):\n",
        "    matrix_item = input()\n",
        "    matrix.append(matrix_item)\n",
        "    \n",
        "string = \"\"\n",
        "for i in range(m) :\n",
        "    for j in range(n):\n",
        "        string += matrix[j][i]\n",
        "\n",
        "\n",
        "print(re.sub(r\"(?<=\\w)([^\\w]+)(?=\\w)\",r' ',string))\n"
      ],
      "metadata": {
        "colab": {
          "base_uri": "https://localhost:8080/"
        },
        "id": "xUcNDR2JGvea",
        "outputId": "fa983671-b815-4c3b-832a-57fb34e0d494"
      },
      "execution_count": 17,
      "outputs": [
        {
          "output_type": "stream",
          "name": "stdout",
          "text": [
            "7 3\n",
            "Tsi\n",
            "h%x\n",
            "i #\n",
            "sM \n",
            "$a \n",
            "#t%\n",
            "ir!\n",
            "This is Matrix#  %!\n"
          ]
        }
      ]
    }
  ]
}