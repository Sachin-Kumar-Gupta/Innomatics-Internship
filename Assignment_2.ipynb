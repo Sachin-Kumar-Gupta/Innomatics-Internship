{
  "nbformat": 4,
  "nbformat_minor": 0,
  "metadata": {
    "colab": {
      "name": "Assignment 3.ipynb",
      "provenance": []
    },
    "kernelspec": {
      "name": "python3",
      "display_name": "Python 3"
    },
    "language_info": {
      "name": "python"
    }
  },
  "cells": [
    {
      "cell_type": "markdown",
      "metadata": {
        "id": "icjQ90b1VV2C"
      },
      "source": [
        "# 1. List Comprehensions"
      ]
    },
    {
      "cell_type": "markdown",
      "metadata": {
        "id": "zvS0cf6xVVqj"
      },
      "source": [
        "You are given three integers x,y and z representing the dimensions of a cuboid along with an integer n. Print a list of all possible coordinates given by (i,j,k) on a 3D grid where the sum of i+j+k is not equal to n."
      ]
    },
    {
      "cell_type": "code",
      "metadata": {
        "colab": {
          "base_uri": "https://localhost:8080/"
        },
        "id": "Of5d45hzVSAj",
        "outputId": "dc7cdb40-d374-4ffd-f5a9-47bbbbf16775"
      },
      "source": [
        "if __name__ == '__main__':\n",
        "    x = int(input())\n",
        "    y = int(input())\n",
        "    z = int(input())\n",
        "    n = int(input())\n",
        "    \n",
        "    print([[i,j,k] for i in range(0,x+1) for j in range(0,y+1) for k in range(0,z+1) if ((i+j+k)!= n)])\n"
      ],
      "execution_count": 1,
      "outputs": [
        {
          "output_type": "stream",
          "name": "stdout",
          "text": [
            "5\n",
            "4\n",
            "6\n",
            "2\n",
            "[[0, 0, 0], [0, 0, 1], [0, 0, 3], [0, 0, 4], [0, 0, 5], [0, 0, 6], [0, 1, 0], [0, 1, 2], [0, 1, 3], [0, 1, 4], [0, 1, 5], [0, 1, 6], [0, 2, 1], [0, 2, 2], [0, 2, 3], [0, 2, 4], [0, 2, 5], [0, 2, 6], [0, 3, 0], [0, 3, 1], [0, 3, 2], [0, 3, 3], [0, 3, 4], [0, 3, 5], [0, 3, 6], [0, 4, 0], [0, 4, 1], [0, 4, 2], [0, 4, 3], [0, 4, 4], [0, 4, 5], [0, 4, 6], [1, 0, 0], [1, 0, 2], [1, 0, 3], [1, 0, 4], [1, 0, 5], [1, 0, 6], [1, 1, 1], [1, 1, 2], [1, 1, 3], [1, 1, 4], [1, 1, 5], [1, 1, 6], [1, 2, 0], [1, 2, 1], [1, 2, 2], [1, 2, 3], [1, 2, 4], [1, 2, 5], [1, 2, 6], [1, 3, 0], [1, 3, 1], [1, 3, 2], [1, 3, 3], [1, 3, 4], [1, 3, 5], [1, 3, 6], [1, 4, 0], [1, 4, 1], [1, 4, 2], [1, 4, 3], [1, 4, 4], [1, 4, 5], [1, 4, 6], [2, 0, 1], [2, 0, 2], [2, 0, 3], [2, 0, 4], [2, 0, 5], [2, 0, 6], [2, 1, 0], [2, 1, 1], [2, 1, 2], [2, 1, 3], [2, 1, 4], [2, 1, 5], [2, 1, 6], [2, 2, 0], [2, 2, 1], [2, 2, 2], [2, 2, 3], [2, 2, 4], [2, 2, 5], [2, 2, 6], [2, 3, 0], [2, 3, 1], [2, 3, 2], [2, 3, 3], [2, 3, 4], [2, 3, 5], [2, 3, 6], [2, 4, 0], [2, 4, 1], [2, 4, 2], [2, 4, 3], [2, 4, 4], [2, 4, 5], [2, 4, 6], [3, 0, 0], [3, 0, 1], [3, 0, 2], [3, 0, 3], [3, 0, 4], [3, 0, 5], [3, 0, 6], [3, 1, 0], [3, 1, 1], [3, 1, 2], [3, 1, 3], [3, 1, 4], [3, 1, 5], [3, 1, 6], [3, 2, 0], [3, 2, 1], [3, 2, 2], [3, 2, 3], [3, 2, 4], [3, 2, 5], [3, 2, 6], [3, 3, 0], [3, 3, 1], [3, 3, 2], [3, 3, 3], [3, 3, 4], [3, 3, 5], [3, 3, 6], [3, 4, 0], [3, 4, 1], [3, 4, 2], [3, 4, 3], [3, 4, 4], [3, 4, 5], [3, 4, 6], [4, 0, 0], [4, 0, 1], [4, 0, 2], [4, 0, 3], [4, 0, 4], [4, 0, 5], [4, 0, 6], [4, 1, 0], [4, 1, 1], [4, 1, 2], [4, 1, 3], [4, 1, 4], [4, 1, 5], [4, 1, 6], [4, 2, 0], [4, 2, 1], [4, 2, 2], [4, 2, 3], [4, 2, 4], [4, 2, 5], [4, 2, 6], [4, 3, 0], [4, 3, 1], [4, 3, 2], [4, 3, 3], [4, 3, 4], [4, 3, 5], [4, 3, 6], [4, 4, 0], [4, 4, 1], [4, 4, 2], [4, 4, 3], [4, 4, 4], [4, 4, 5], [4, 4, 6], [5, 0, 0], [5, 0, 1], [5, 0, 2], [5, 0, 3], [5, 0, 4], [5, 0, 5], [5, 0, 6], [5, 1, 0], [5, 1, 1], [5, 1, 2], [5, 1, 3], [5, 1, 4], [5, 1, 5], [5, 1, 6], [5, 2, 0], [5, 2, 1], [5, 2, 2], [5, 2, 3], [5, 2, 4], [5, 2, 5], [5, 2, 6], [5, 3, 0], [5, 3, 1], [5, 3, 2], [5, 3, 3], [5, 3, 4], [5, 3, 5], [5, 3, 6], [5, 4, 0], [5, 4, 1], [5, 4, 2], [5, 4, 3], [5, 4, 4], [5, 4, 5], [5, 4, 6]]\n"
          ]
        }
      ]
    },
    {
      "cell_type": "markdown",
      "metadata": {
        "id": "IxhriYIMWBTK"
      },
      "source": [
        "#2. Find the Runner-Up Score!"
      ]
    },
    {
      "cell_type": "markdown",
      "metadata": {
        "id": "gh8oEoR-WH9a"
      },
      "source": [
        "Given the participants' score sheet for your University Sports Day, you are required to find the runner-up score. You are given  scores. Store them in a list and find the score of the runner-up."
      ]
    },
    {
      "cell_type": "code",
      "metadata": {
        "colab": {
          "base_uri": "https://localhost:8080/"
        },
        "id": "BPe2X6KSWKow",
        "outputId": "822c1688-5670-4ccb-ea3f-9e008fd81c3e"
      },
      "source": [
        "if __name__ == '__main__':\n",
        "    n = int(input())\n",
        "    arr = list(set(map(int, input().split())))\n",
        "    num = sorted(arr)\n",
        "    print(num[-2])"
      ],
      "execution_count": 2,
      "outputs": [
        {
          "output_type": "stream",
          "name": "stdout",
          "text": [
            "4\n",
            "20 30 50 80\n",
            "50\n"
          ]
        }
      ]
    },
    {
      "cell_type": "markdown",
      "metadata": {
        "id": "yKXiYUK6WNHm"
      },
      "source": [
        "#3.Nested Lists"
      ]
    },
    {
      "cell_type": "markdown",
      "metadata": {
        "id": "d2mIyF3pWSOW"
      },
      "source": [
        "Given the names and grades for each student in a class of N students, store them in a nested list and print the name(s) of any student(s) having the second lowest grade."
      ]
    },
    {
      "cell_type": "code",
      "metadata": {
        "colab": {
          "base_uri": "https://localhost:8080/"
        },
        "id": "CD-5N6iZWV_B",
        "outputId": "b4f3ffea-4def-4bcc-e444-73e981e855a7"
      },
      "source": [
        "if __name__ == '__main__':\n",
        "    stds = []\n",
        "    grades = set()\n",
        "    names = []\n",
        "    for i in range(int(input())):\n",
        "        name = input()\n",
        "        score = float(input())\n",
        "        stds.append([name,score])\n",
        "        grades.add(score)\n",
        "        \n",
        "    grades = sorted(grades)\n",
        "    for name, score in stds:\n",
        "        if score == grades[1]:\n",
        "            names.append(name)\n",
        "\n",
        "    for name in sorted(names):\n",
        "        print(name, end='\\n')\n",
        "  "
      ],
      "execution_count": 3,
      "outputs": [
        {
          "output_type": "stream",
          "name": "stdout",
          "text": [
            "5\n",
            "Harry\n",
            "42\n",
            "Berry\n",
            "52\n",
            "Tina\n",
            "45\n",
            "Harsh\n",
            "80\n",
            "Ash\n",
            "60\n",
            "Tina\n"
          ]
        }
      ]
    },
    {
      "cell_type": "markdown",
      "metadata": {
        "id": "yYowrcvHXFwn"
      },
      "source": [
        "#4. Finding the percentage\n",
        "\n"
      ]
    },
    {
      "cell_type": "markdown",
      "metadata": {
        "id": "TT-ufrh8XKw8"
      },
      "source": [
        "The provided code stub will read in a dictionary containing key/value pairs of name:[marks] for a list of students. Print the average of the marks array for the student name provided, showing 2 places after the decimal.\n",
        "\n"
      ]
    },
    {
      "cell_type": "code",
      "metadata": {
        "colab": {
          "base_uri": "https://localhost:8080/"
        },
        "id": "_wL1tNeVXSpC",
        "outputId": "5010c556-5bb0-48fa-b74b-83765d4a5a0e"
      },
      "source": [
        "if __name__ == '__main__':\n",
        "    n = int(input())\n",
        "    student_marks = {}\n",
        "    for i in range(n):\n",
        "        name, *line = input().split()\n",
        "        scores = list(map(float, line))\n",
        "        student_marks[name] = scores\n",
        "    query_name = input()\n",
        "    if query_name in student_marks:\n",
        "        avg = (student_marks[query_name][0]+student_marks[query_name][1]+student_marks[query_name][2])/3\n",
        "        print(\"%.2f\"%avg)\n"
      ],
      "execution_count": 4,
      "outputs": [
        {
          "output_type": "stream",
          "name": "stdout",
          "text": [
            "2\n",
            "Tina 25 50 80\n",
            "Ash 60 40 35\n",
            "Ash\n",
            "45.00\n"
          ]
        }
      ]
    },
    {
      "cell_type": "markdown",
      "metadata": {
        "id": "qqVndbDeXj--"
      },
      "source": [
        "#5.Lists\n",
        "\n"
      ]
    },
    {
      "cell_type": "markdown",
      "metadata": {
        "id": "Wgo2mY3QXpe_"
      },
      "source": [
        "Consider a list (list = []). You can perform the following commands:\n",
        "\n",
        "1. insert i e: Insert integer  at position .\n",
        "2. print: Print the list.\n",
        "3. remove e: Delete the first occurrence of integer .\n",
        "4. append e: Insert integer  at the end of the list.\n",
        "5. sort: Sort the list.\n",
        "6. pop: Pop the last element from the list.\n",
        "7. reverse: Reverse the list.\n",
        "\n",
        "Initialize your list and read in the value of n followed by n lines of commands where each command will be of the 7 types listed above. Iterate through each command in order and perform the corresponding operation on your list."
      ]
    },
    {
      "cell_type": "code",
      "metadata": {
        "colab": {
          "base_uri": "https://localhost:8080/"
        },
        "id": "e2L86gEvX7NI",
        "outputId": "6814deb6-5736-47ca-e069-e9f3043b36b8"
      },
      "source": [
        "if __name__ == '__main__':\n",
        "    N = int(input())\n",
        "    lst = []\n",
        "    for i in range(N):\n",
        "        df = input().split()\n",
        "        if df[0] == \"insert\":\n",
        "            lst.insert(int(df[1]), int(df[2]))\n",
        "        elif df[0] == \"remove\" :\n",
        "            lst.remove(int(df[1]))\n",
        "        elif df[0] == \"append\":\n",
        "            lst.append(int(df[1]))\n",
        "        elif df[0] == \"sort\":\n",
        "            lst.sort()\n",
        "        elif df[0] == \"pop\":\n",
        "            lst.pop()\n",
        "        elif df[0] == \"reverse\":\n",
        "            lst.reverse()\n",
        "        else :\n",
        "            print(lst)\n",
        "p"
      ],
      "execution_count": 5,
      "outputs": [
        {
          "output_type": "stream",
          "name": "stdout",
          "text": [
            "12\n",
            "insert 0 5\n",
            "insert 1 10\n",
            "insert 0 6\n",
            "print\n",
            "[6, 5, 10]\n",
            "remove 6\n",
            "append 9\n",
            "append 1\n",
            "sort\n",
            "print\n",
            "[1, 5, 9, 10]\n",
            "pop\n",
            "reverse\n",
            "print\n",
            "[9, 5, 1]\n"
          ]
        }
      ]
    },
    {
      "cell_type": "markdown",
      "metadata": {
        "id": "hypPKn5HYZRd"
      },
      "source": [
        "#6. Tuples\n",
        "\n"
      ]
    },
    {
      "cell_type": "markdown",
      "metadata": {
        "id": "xP1fNjFpZLRo"
      },
      "source": [
        "Given an integer, n, and n space-separated integers as input, create a tuple,t , of those n integers. Then compute and print the result of hash(t)."
      ]
    },
    {
      "cell_type": "code",
      "metadata": {
        "colab": {
          "base_uri": "https://localhost:8080/"
        },
        "id": "U1JvNNRZZW9_",
        "outputId": "8557b7a0-38af-4b52-ef46-aeeebb1c6fb5"
      },
      "source": [
        "if __name__ == '__main__':\n",
        "    n = int(input())\n",
        "    integer_list = list(map(int, input().split()))\n",
        "    \n",
        "    for i in range(n):\n",
        "        integer_list[i] = int(integer_list[i])\n",
        "        tup = tuple(integer_list)\n",
        "    print(hash(tup))\n"
      ],
      "execution_count": 9,
      "outputs": [
        {
          "output_type": "stream",
          "name": "stdout",
          "text": [
            "2\n",
            "1 2\n",
            "3713081631934410656\n"
          ]
        }
      ]
    },
    {
      "cell_type": "markdown",
      "metadata": {
        "id": "SriiGjo6Zqtw"
      },
      "source": [
        "#7. Introduction to Sets\n",
        "\n"
      ]
    },
    {
      "cell_type": "markdown",
      "metadata": {
        "id": "Ok-a01exZyxG"
      },
      "source": [
        "A set is an unordered collection of elements without duplicate entries.\n",
        "When printed, iterated or converted into a sequence, its elements will appear in an arbitrary order.\n",
        "Ms. Gabriel Williams is a botany professor at District College. One day, she asked her student Mickey to compute the average of all the plants with distinct heights in her greenhouse."
      ]
    },
    {
      "cell_type": "code",
      "metadata": {
        "colab": {
          "base_uri": "https://localhost:8080/"
        },
        "id": "aTPsqXXRZyW2",
        "outputId": "4d28c6b0-7a78-4d17-81b2-d381dc0f9e3a"
      },
      "source": [
        "def average(array):\n",
        "    \n",
        "    num = set(array)\n",
        "    avg = float((sum(num)/len(num)))\n",
        "    return avg\n",
        "\n",
        "if __name__ == '__main__':\n",
        "    n = int(input())\n",
        "    arr = list(map(int, input().split()))\n",
        "    result = average(arr)\n",
        "    print(result)"
      ],
      "execution_count": 11,
      "outputs": [
        {
          "output_type": "stream",
          "name": "stdout",
          "text": [
            "6\n",
            "161 168 155 150 155 168\n",
            "158.5\n"
          ]
        }
      ]
    },
    {
      "cell_type": "markdown",
      "metadata": {
        "id": "x78RtZZHaOKo"
      },
      "source": [
        "#8. No Idea!\n",
        "\n"
      ]
    },
    {
      "cell_type": "markdown",
      "metadata": {
        "id": "r8s75ndWaTzB"
      },
      "source": [
        "There is an array of n integers. There are also 2 disjoint sets, A and B, each containing m integers. You like all the integers in set A and dislike all the integers in set B. Your initial happiness is 0. For each i integer in the array, if i = A, you add 1 to your happiness. If i = B, you add -1 to your happiness. Otherwise, your happiness does not change. Output your final happiness at the end."
      ]
    },
    {
      "cell_type": "code",
      "metadata": {
        "colab": {
          "base_uri": "https://localhost:8080/"
        },
        "id": "dA_SLM3KaTWW",
        "outputId": "9e4482c3-20eb-47c3-c8c9-150e1b9bffe0"
      },
      "source": [
        "# Enter your code here. Read input from STDIN. Print output to STDOUT\n",
        "n,m = input().split(\" \")\n",
        "num = input().split(\" \")\n",
        "A = set(input().split(\" \"))\n",
        "B = set(input().split(\" \"))\n",
        "\n",
        "happiness = 0\n",
        "\n",
        "for i in num :\n",
        "    \n",
        "    if i in A :\n",
        "        happiness += 1\n",
        "    \n",
        "    elif i in B :\n",
        "        happiness -= 1\n",
        "    \n",
        "    else :\n",
        "        happiness = happiness\n",
        "    \n",
        "print(happiness)\n"
      ],
      "execution_count": 12,
      "outputs": [
        {
          "output_type": "stream",
          "name": "stdout",
          "text": [
            "3 2\n",
            "1 5 3\n",
            "3 1\n",
            "5 1\n",
            "1\n"
          ]
        }
      ]
    },
    {
      "cell_type": "markdown",
      "metadata": {
        "id": "i-7Z3bU5a4Jh"
      },
      "source": [
        "#9. Symmetric Difference\n",
        "\n",
        " "
      ]
    },
    {
      "cell_type": "markdown",
      "metadata": {
        "id": "WvFVC5Zoa_J4"
      },
      "source": [
        "Given 2 sets of integers, M and N, print their symmetric difference in ascending order. The term symmetric difference indicates those values that exist in either M or N but do not exist in both."
      ]
    },
    {
      "cell_type": "code",
      "metadata": {
        "colab": {
          "base_uri": "https://localhost:8080/"
        },
        "id": "P-_7_lbWbIfR",
        "outputId": "93904a49-06ba-4d6b-fe41-04cb5a7d39c1"
      },
      "source": [
        "m = int(input())\n",
        "num = input()\n",
        "n = int(input())\n",
        "num1 = input()\n",
        "lst = set(num.split(\" \"))\n",
        "lst1 = set(num1.split(\" \"))\n",
        "\n",
        "sets = (lst.difference(lst1))\n",
        "sets1 =  (lst1.difference(lst))\n",
        "arr = sorted(sets.union(sets1),key= int)\n",
        "print('\\n'.join(arr))\n"
      ],
      "execution_count": 13,
      "outputs": [
        {
          "output_type": "stream",
          "name": "stdout",
          "text": [
            "4\n",
            "1 5 8 6\n",
            "4\n",
            "1 8 4 9\n",
            "4\n",
            "5\n",
            "6\n",
            "9\n"
          ]
        }
      ]
    },
    {
      "cell_type": "markdown",
      "metadata": {
        "id": "bkqkFgjjbUaf"
      },
      "source": [
        "#10. Set .discard(), .remove() & .pop()\n",
        "\n"
      ]
    },
    {
      "cell_type": "markdown",
      "metadata": {
        "id": "AzJpC7UUbZc4"
      },
      "source": [
        "You have a non-empty set s, and you have to execute N commands given in N lines.\n",
        "\n",
        "The commands will be pop, remove and discard."
      ]
    },
    {
      "cell_type": "code",
      "metadata": {
        "colab": {
          "base_uri": "https://localhost:8080/"
        },
        "id": "U7i5ivJ4bgMI",
        "outputId": "fb96c5ba-c397-4d32-b6b9-dde80b556a23"
      },
      "source": [
        "n = int(input())\n",
        "s = set(map(int, input().split()))\n",
        "N = int(input())\n",
        "for i in range(N):\n",
        "    comd =input().split()\n",
        "    if comd[0]==\"pop\" :\n",
        "        s.pop()\n",
        "    elif comd[0]==\"remove\" :\n",
        "        s.remove(int(comd[1]))\n",
        "    else  :\n",
        "        s.discard(int(comd[1]))\n",
        "        \n",
        "print(sum(s))\n"
      ],
      "execution_count": 15,
      "outputs": [
        {
          "output_type": "stream",
          "name": "stdout",
          "text": [
            "9\n",
            "1 2 3 4 5 6 7 8 9\n",
            "10\n",
            "pop\n",
            "remove 9\n",
            "discard 9\n",
            "discard 7\n",
            "remove 8\n",
            "pop\n",
            "discard 6\n",
            "remove 5\n",
            "pop\n",
            "discard 5\n",
            "4\n"
          ]
        }
      ]
    },
    {
      "cell_type": "markdown",
      "metadata": {
        "id": "tNKi3qGCcD7j"
      },
      "source": [
        "#11. Set .union() Operation"
      ]
    },
    {
      "cell_type": "markdown",
      "metadata": {
        "id": "9MPo--w9cJKF"
      },
      "source": [
        "The students of District College have subscriptions to English and French newspapers. Some students have subscribed only to English, some have subscribed to only French and some have subscribed to both newspapers.\n",
        "\n",
        "You are given two sets of student roll numbers. One set has subscribed to the English newspaper, and the other set is subscribed to the French newspaper. The same student could be in both sets. Your task is to find the total number of students who have subscribed to at least one newspaper."
      ]
    },
    {
      "cell_type": "code",
      "metadata": {
        "colab": {
          "base_uri": "https://localhost:8080/"
        },
        "id": "HuhqeRSncMhn",
        "outputId": "184c4240-f146-4bf8-c5df-396a2457a885"
      },
      "source": [
        "n = int(input()) # Students subscribed English newspaper \n",
        "n_roll = set(input().split())\n",
        "b = int(input()) # Students subscribed French newspaper\n",
        "b_roll = set(input().split())\n",
        "\n",
        "print(len(n_roll.union(b_roll)))\n"
      ],
      "execution_count": 16,
      "outputs": [
        {
          "output_type": "stream",
          "name": "stdout",
          "text": [
            "9\n",
            "1 2 3 4 5 6 7 8 9\n",
            "9\n",
            "10 15 12 11 8 6 5 9 4\n",
            "13\n"
          ]
        }
      ]
    },
    {
      "cell_type": "markdown",
      "metadata": {
        "id": "YiE-ID4IcYp_"
      },
      "source": [
        "#12. Set .intersection() Operation\n",
        "\n"
      ]
    },
    {
      "cell_type": "markdown",
      "metadata": {
        "id": "9ZknHfWWcdsn"
      },
      "source": [
        "The students of District College have subscriptions to English and French newspapers. Some students have subscribed only to English, some have subscribed only to French, and some have subscribed to both newspapers.\n",
        "\n",
        "You are given two sets of student roll numbers. One set has subscribed to the English newspaper, one set has subscribed to the French newspaper. Your task is to find the total number of students who have subscribed to both newspapers."
      ]
    },
    {
      "cell_type": "code",
      "metadata": {
        "colab": {
          "base_uri": "https://localhost:8080/"
        },
        "id": "-2DjTKYsckqq",
        "outputId": "e14caee3-e274-44cb-fee9-91d8230eed2b"
      },
      "source": [
        "n= int(input())\n",
        "n_roll = set(input().split())\n",
        "b= int(input())\n",
        "b_roll = set(input().split())\n",
        "\n",
        "print(len(n_roll.intersection(b_roll)))\n"
      ],
      "execution_count": 17,
      "outputs": [
        {
          "output_type": "stream",
          "name": "stdout",
          "text": [
            "9\n",
            "1 2 3 4 5 6 7 8 9\n",
            "9\n",
            "10 12 11 8 4 9 5 20 25\n",
            "4\n"
          ]
        }
      ]
    },
    {
      "cell_type": "markdown",
      "metadata": {
        "id": "_NLR9nV9ctA7"
      },
      "source": [
        "#13. Set .difference() Operation"
      ]
    },
    {
      "cell_type": "markdown",
      "metadata": {
        "id": "NrBPve3Vc0Nw"
      },
      "source": [
        "Students of District College have a subscription to English and French newspapers. Some students have subscribed to only the English newspaper, some have subscribed to only the French newspaper, and some have subscribed to both newspapers.\n",
        "\n",
        "You are given two sets of student roll numbers. One set has subscribed to the English newspaper, and one set has subscribed to the French newspaper. Your task is to find the total number of students who have subscribed to only English newspapers."
      ]
    },
    {
      "cell_type": "code",
      "metadata": {
        "colab": {
          "base_uri": "https://localhost:8080/"
        },
        "id": "ncoRFtGEcz0O",
        "outputId": "02737e2c-1bcc-4a10-a387-88f3411c551a"
      },
      "source": [
        "n = int(input())\n",
        "n_roll = set(input().split())\n",
        "b = int(input())\n",
        "b_roll = set(input().split())\n",
        "\n",
        "print(len(n_roll.difference(b_roll)))\n"
      ],
      "execution_count": 18,
      "outputs": [
        {
          "output_type": "stream",
          "name": "stdout",
          "text": [
            "9\n",
            "1 2 3 4 5 6 7 8 9\n",
            "9\n",
            "11 10 5 4 2 15 20 25 21\n",
            "6\n"
          ]
        }
      ]
    },
    {
      "cell_type": "markdown",
      "metadata": {
        "id": "9-AgoHMxdCP0"
      },
      "source": [
        "#14.Set .symmetric_difference() Operation"
      ]
    },
    {
      "cell_type": "markdown",
      "metadata": {
        "id": "cAM3nfdJdIYG"
      },
      "source": [
        "Students of District College have subscriptions to English and French newspapers. Some students have subscribed to English only, some have subscribed to French only, and some have subscribed to both newspapers.\n",
        "\n",
        "You are given two sets of student roll numbers. One set has subscribed to the English newspaper, and one set has subscribed to the French newspaper. Your task is to find the total number of students who have subscribed to either the English or the French newspaper but not both."
      ]
    },
    {
      "cell_type": "code",
      "metadata": {
        "colab": {
          "base_uri": "https://localhost:8080/"
        },
        "id": "v36-is-8dB36",
        "outputId": "8026af5c-9983-443e-add5-58603dcb462d"
      },
      "source": [
        "n = int(input())\n",
        "n_roll = set(input().split())\n",
        "b = int(input())\n",
        "b_roll = set(input().split())\n",
        "\n",
        "print(len(n_roll.symmetric_difference(b_roll)))\n"
      ],
      "execution_count": 19,
      "outputs": [
        {
          "output_type": "stream",
          "name": "stdout",
          "text": [
            "9\n",
            "1 2 3 4 5 6 7 8 9\n",
            "9\n",
            "1 3 5 10 15 12 20 25 21\n",
            "12\n"
          ]
        }
      ]
    },
    {
      "cell_type": "markdown",
      "metadata": {
        "id": "s2XeoMptdTM_"
      },
      "source": [
        "#15. Set .add()\n",
        "\n"
      ]
    },
    {
      "cell_type": "markdown",
      "metadata": {
        "id": "oqnGWW45dZRx"
      },
      "source": [
        "Apply your knowledge of the .add() operation to help your friend Rupal.\n",
        "\n",
        "Rupal has a huge collection of country stamps. She decided to count the total number of distinct country stamps in her collection. She asked for your help. You pick the stamps one by one from a stack of N country stamps.\n",
        "\n",
        "Find the total number of distinct country stamps."
      ]
    },
    {
      "cell_type": "code",
      "metadata": {
        "colab": {
          "base_uri": "https://localhost:8080/"
        },
        "id": "sRGo4zjqdY5z",
        "outputId": "32b33d95-4454-46e2-c3c8-493abc9d8f22"
      },
      "source": [
        "n = int(input()) # Takes user input, total no. of stamps\n",
        "country = set()\n",
        "for i in range(n):\n",
        "    country.add(input()) # Country name from where stamps are.\n",
        "\n",
        "print(len(country))\n"
      ],
      "execution_count": 20,
      "outputs": [
        {
          "output_type": "stream",
          "name": "stdout",
          "text": [
            "6\n",
            "UK\n",
            "China\n",
            "France\n",
            "UK\n",
            "USA\n",
            "China\n",
            "4\n"
          ]
        }
      ]
    },
    {
      "cell_type": "markdown",
      "metadata": {
        "id": "SHtwE0NHdq7H"
      },
      "source": [
        "#16. Set Mutations"
      ]
    },
    {
      "cell_type": "markdown",
      "metadata": {
        "id": "GTqnRpWUeMe3"
      },
      "source": [
        "You are given a set A and N number of other sets. These N number of sets have to perform some specific mutation operations on set A.\n",
        "\n",
        "Your task is to execute those operations and print the sum of elements from set A."
      ]
    },
    {
      "cell_type": "code",
      "metadata": {
        "id": "SB2fmpw-eMHB"
      },
      "source": [
        "n = int(input())\n",
        "A = set(map(int,input().split()))\n",
        "N = int(input())\n",
        "\n",
        "for i in range (N):\n",
        "    cmd = input().split()\n",
        "    B = set(map(int, input().split()))\n",
        "    if cmd[0] == \"intersection_update\":\n",
        "        A.intersection_update(B)\n",
        "    elif cmd[0] == \"update\":\n",
        "        A.update(B)\n",
        "    elif cmd[0] == \"symmetric_difference_update\":\n",
        "        A.symmetric_difference_update(B)\n",
        "    else:\n",
        "        A.difference_update(B)\n",
        "        \n",
        "print(sum(A))\n"
      ],
      "execution_count": null,
      "outputs": []
    },
    {
      "cell_type": "markdown",
      "metadata": {
        "id": "CBr8EX72fuE4"
      },
      "source": [
        "#17. The Captain's Room"
      ]
    },
    {
      "cell_type": "markdown",
      "metadata": {
        "id": "jWc73rftf7Be"
      },
      "source": [
        "Mr. Anant Asankhya is the manager at the INFINITE hotel. The hotel has an infinite amount of rooms.\n",
        "\n",
        "One fine day, a finite number of tourists come to stay at the hotel.\n",
        "The tourists consist of:\n",
        "→ A Captain.\n",
        "→ An unknown group of families consisting of K members per group where  K ≠ 1 .\n",
        "\n",
        "The Captain was given a separate room, and the rest were given one room per group.\n",
        "\n",
        "Mr. Anant has an unordered list of randomly arranged room entries. The list consists of the room numbers for all of the tourists. The room numbers will appear K times per group except for the Captain's room.\n",
        "\n",
        "Mr. Anant needs you to help him find the Captain's room number.\n",
        "The total number of tourists or the total number of groups of families is not known to you.\n",
        "You only know the value of K and the room number list."
      ]
    },
    {
      "cell_type": "code",
      "metadata": {
        "colab": {
          "base_uri": "https://localhost:8080/"
        },
        "id": "5Ptwy6ypf6nG",
        "outputId": "54734d5d-28a6-4f0e-b60e-7b0d7c09625c"
      },
      "source": [
        "K = int(input())\n",
        "lst = list(map(int,input().split()))\n",
        "sets = set()\n",
        "room = set()\n",
        "for i in lst:\n",
        "    if i not in sets:\n",
        "        sets.add(i)\n",
        "    else:\n",
        "        room.add(i)\n",
        "print(list(sets.difference(room))[0])\n"
      ],
      "execution_count": 25,
      "outputs": [
        {
          "output_type": "stream",
          "name": "stdout",
          "text": [
            "5\n",
            "1 2 3 6 5 4 4 2 5 3 6 1 6 5 3 2 4 1 2 5 1 4 3 6 8 4 3 1 5 6 2 \n",
            "8\n"
          ]
        }
      ]
    },
    {
      "cell_type": "markdown",
      "metadata": {
        "id": "lPYrn_edgfLm"
      },
      "source": [
        "#18. Check Subset"
      ]
    },
    {
      "cell_type": "markdown",
      "metadata": {
        "id": "oqdjerfSglDS"
      },
      "source": [
        "You are given two sets, A and B.\n",
        "Your job is to find whether set A is a subset of set B."
      ]
    },
    {
      "cell_type": "code",
      "metadata": {
        "colab": {
          "base_uri": "https://localhost:8080/"
        },
        "id": "6iUV7sU8gkt8",
        "outputId": "930c6ae1-ed18-494d-aea2-e703470f7a3a"
      },
      "source": [
        "test = int(input())\n",
        "\n",
        "for i in range(test):\n",
        "    n = int(input())\n",
        "    A = set(input().split())\n",
        "    b = int(input())\n",
        "    B = set(input().split())\n",
        "    \n",
        "    if len(A.difference(B))==0 :\n",
        "        print(True)\n",
        "    else:\n",
        "        print(False)\n"
      ],
      "execution_count": 26,
      "outputs": [
        {
          "output_type": "stream",
          "name": "stdout",
          "text": [
            "3\n",
            "5\n",
            "1 2 3 5 6\n",
            "9\n",
            "9 8 5 4 3 2 1 7 11\n",
            "False\n",
            "1\n",
            "2\n",
            "5\n",
            "3 4 6 5 1\n",
            "False\n",
            "7\n",
            "1 2 3 5 6 8 9\n",
            "3\n",
            "9 8 2\n",
            "False\n"
          ]
        }
      ]
    },
    {
      "cell_type": "markdown",
      "metadata": {
        "id": "O-0-hu5ThDMz"
      },
      "source": [
        "#19. Check Strict Superset\n",
        "\n"
      ]
    },
    {
      "cell_type": "markdown",
      "metadata": {
        "id": "-WkpEcgahHka"
      },
      "source": [
        "You are given a set A and n other sets.\n",
        "Your job is to find whether set A is a strict superset of each of the N sets.\n",
        "\n",
        "Print True, if A is a strict superset of each of the N sets. Otherwise, print False.\n",
        "\n",
        "A strict superset has at least one element that does not exist in its subset."
      ]
    },
    {
      "cell_type": "code",
      "metadata": {
        "colab": {
          "base_uri": "https://localhost:8080/"
        },
        "id": "brP1fjRChS6e",
        "outputId": "61b5d54c-f2c3-4fd5-e772-52984f717eab"
      },
      "source": [
        "A = set(input().split())\n",
        "n = int(input())\n",
        "\n",
        "for i in range(n):\n",
        "    B = set(input().split())\n",
        "    if not (A.issuperset(B)):\n",
        "        print(False)\n",
        "        break\n",
        "else:\n",
        "    print(True)\n"
      ],
      "execution_count": 27,
      "outputs": [
        {
          "output_type": "stream",
          "name": "stdout",
          "text": [
            "1 2 3 4 5 6 7 8 9 10 11 12 23 45 84 78\n",
            "2\n",
            "1 2 3 4 5\n",
            "100 11 12\n",
            "False\n"
          ]
        }
      ]
    }
  ]
}