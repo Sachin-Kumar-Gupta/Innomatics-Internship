{
  "nbformat": 4,
  "nbformat_minor": 0,
  "metadata": {
    "colab": {
      "name": "Assignment 4.ipynb",
      "provenance": []
    },
    "kernelspec": {
      "name": "python3",
      "display_name": "Python 3"
    },
    "language_info": {
      "name": "python"
    }
  },
  "cells": [
    {
      "cell_type": "markdown",
      "metadata": {
        "id": "Cpt6BrTykAkw"
      },
      "source": [
        "# 1. SWAP CASE"
      ]
    },
    {
      "cell_type": "markdown",
      "metadata": {
        "id": "svtB78azkEtq"
      },
      "source": [
        "You are given a string and your task is to swap cases. In other words, convert all lowercase letters to uppercase letters and vice versa."
      ]
    },
    {
      "cell_type": "code",
      "metadata": {
        "colab": {
          "base_uri": "https://localhost:8080/"
        },
        "id": "YAvyBkFjj4mk",
        "outputId": "08124430-3768-43d4-f316-85263d2f9393"
      },
      "source": [
        "def swap_case(s):\n",
        "    swap = s.swapcase() #Swpcase will swap letters i.e. small letter to capital and vice-versa.\n",
        "    return swap\n",
        "\n",
        "if __name__ == '__main__':\n",
        "    s = input()\n",
        "    result = swap_case(s)\n",
        "    print(result)"
      ],
      "execution_count": 1,
      "outputs": [
        {
          "output_type": "stream",
          "name": "stdout",
          "text": [
            "Sachin Tendulkar\n",
            "sACHIN tENDULKAR\n"
          ]
        }
      ]
    },
    {
      "cell_type": "markdown",
      "metadata": {
        "id": "SbEMPwIqkL-b"
      },
      "source": [
        "#2. String Split and Join"
      ]
    },
    {
      "cell_type": "markdown",
      "metadata": {
        "id": "XayLwN7DkRJn"
      },
      "source": [
        "You are given a string. Split the string on a \" \" (space) delimiter and join using a - hyphen."
      ]
    },
    {
      "cell_type": "code",
      "metadata": {
        "colab": {
          "base_uri": "https://localhost:8080/"
        },
        "id": "i23_lfl0kUd8",
        "outputId": "8efdc474-c0aa-409f-d735-d30be8eb69d5"
      },
      "source": [
        "def split_and_join(line):\n",
        "    \n",
        "    split = line.split(\" \") # It will break line into two parts.\n",
        "    joint = \"-\".join(split) # it will again join the line but with a - sign.\n",
        "    \n",
        "    return joint\n",
        "\n",
        "if __name__ == '__main__':\n",
        "    line = input()\n",
        "    result = split_and_join(line)\n",
        "    print(result)"
      ],
      "execution_count": 2,
      "outputs": [
        {
          "output_type": "stream",
          "name": "stdout",
          "text": [
            "dhoni mahi\n",
            "dhoni-mahi\n"
          ]
        }
      ]
    },
    {
      "cell_type": "markdown",
      "metadata": {
        "id": "-homhqL8kX2w"
      },
      "source": [
        "#3. What's Your Name?\n",
        "\n"
      ]
    },
    {
      "cell_type": "markdown",
      "metadata": {
        "id": "0ms2qdiVkc9z"
      },
      "source": [
        "You are given the firstname and lastname of a person on two different lines. Your task is to read them and print the following :\n",
        "\n",
        "Hello firstname lastname! You just delved into python."
      ]
    },
    {
      "cell_type": "code",
      "metadata": {
        "colab": {
          "base_uri": "https://localhost:8080/"
        },
        "id": "stb_cmFckncX",
        "outputId": "d603292c-a772-4e70-f593-a740c4235e8b"
      },
      "source": [
        "def print_full_name(first, last):\n",
        "    \n",
        "    print(\"Hello {} {}! You just delved into python.\".format(first_name,last_name))\n",
        "\n",
        "if __name__ == '__main__':\n",
        "    first_name = input()\n",
        "    last_name = input()\n",
        "    print_full_name(first_name, last_name)"
      ],
      "execution_count": 4,
      "outputs": [
        {
          "output_type": "stream",
          "name": "stdout",
          "text": [
            "M.S.\n",
            "Dhoni\n",
            "Hello M.S. Dhoni! You just delved into python.\n"
          ]
        }
      ]
    },
    {
      "cell_type": "markdown",
      "metadata": {
        "id": "C5t3BqZ8kyci"
      },
      "source": [
        "#4. Mutations"
      ]
    },
    {
      "cell_type": "markdown",
      "metadata": {
        "id": "E4e31juekrc9"
      },
      "source": [
        "Read a given string, change the character at a given index and then print the modified string."
      ]
    },
    {
      "cell_type": "code",
      "metadata": {
        "colab": {
          "base_uri": "https://localhost:8080/"
        },
        "id": "lhIiufYHk181",
        "outputId": "19b12446-f17a-47a0-86fb-1c9fd028ff86"
      },
      "source": [
        "def mutate_string(string, position, character):\n",
        "    add = string[:position] + character + string[(position+1) :]\n",
        "    return add\n",
        "\n",
        "if __name__ == '__main__':\n",
        "    s = input()\n",
        "    i, c = input().split()\n",
        "    s_new = mutate_string(s, int(i), c)\n",
        "    print(s_new)"
      ],
      "execution_count": 8,
      "outputs": [
        {
          "output_type": "stream",
          "name": "stdout",
          "text": [
            "Rishab\n",
            "4 r\n",
            "Rishrb\n"
          ]
        }
      ]
    },
    {
      "cell_type": "markdown",
      "metadata": {
        "id": "TfOpospfk5PI"
      },
      "source": [
        "#5. Find a string"
      ]
    },
    {
      "cell_type": "markdown",
      "metadata": {
        "id": "pdIgJ_JRk9vW"
      },
      "source": [
        "In this challenge, the user enters a string and a substring. You have to print the number of times that the substring occurs in the given string. String traversal will take place from left to right, not from right to left."
      ]
    },
    {
      "cell_type": "code",
      "metadata": {
        "colab": {
          "base_uri": "https://localhost:8080/"
        },
        "id": "QHVCHvgTlBsp",
        "outputId": "c239601c-c8e7-45a7-c197-83e282b67066"
      },
      "source": [
        "def count_substring(string, sub_string):\n",
        "    value = 0\n",
        "    for i in range(len(string)):\n",
        "        if string[i:(i+len(sub_string))] == sub_string :\n",
        "            value += 1\n",
        "        \n",
        "    return value\n",
        "\n",
        "if __name__ == '__main__':\n",
        "    string = input().strip()\n",
        "    sub_string = input().strip()\n",
        "    \n",
        "    count = count_substring(string, sub_string)\n",
        "    print(count)"
      ],
      "execution_count": 11,
      "outputs": [
        {
          "output_type": "stream",
          "name": "stdout",
          "text": [
            "asdjkncajyukna\n",
            "a\n",
            "3\n"
          ]
        }
      ]
    },
    {
      "cell_type": "markdown",
      "metadata": {
        "id": "xvQ3acG3lE36"
      },
      "source": [
        "#6. String Validators\n",
        "\n"
      ]
    },
    {
      "cell_type": "markdown",
      "metadata": {
        "id": "g6YVW6NylJkf"
      },
      "source": [
        "You are given a string .\n",
        "Your task is to find out if the string  contains: alphanumeric characters, alphabetical characters, digits, lowercase and uppercase characters."
      ]
    },
    {
      "cell_type": "code",
      "metadata": {
        "colab": {
          "base_uri": "https://localhost:8080/"
        },
        "id": "2SJw1RJ5lOwy",
        "outputId": "55969f8a-144c-45ff-f389-aa2a45b2b799"
      },
      "source": [
        "if __name__ == '__main__':\n",
        "    s = input()\n",
        "    print(any(i.isalnum() for i in s)) # isalnum checks for alpha numeric value.\n",
        "    print(any(i.isalpha() for i in s)) # isalpha checks for alphabetes.\n",
        "    print(any(i.isdigit() for i in s)) # isdigit check for numbers.\n",
        "    print(any(i.islower() for i in s)) # islower check for lower letter case.\n",
        "    print(any(i.isupper() for i in s)) # isupper check for upper letter case.\n"
      ],
      "execution_count": 12,
      "outputs": [
        {
          "output_type": "stream",
          "name": "stdout",
          "text": [
            "Ascd45\n",
            "True\n",
            "True\n",
            "True\n",
            "True\n",
            "True\n"
          ]
        }
      ]
    },
    {
      "cell_type": "markdown",
      "metadata": {
        "id": "JMw3-l48lR6k"
      },
      "source": [
        "#7. Text Alignment"
      ]
    },
    {
      "cell_type": "markdown",
      "metadata": {
        "id": "gSZDGTJolW1_"
      },
      "source": [
        "You are given a partial code that is used for generating the HackerRank Logo of variable thickness.\n",
        "Your task is to replace the blank (______) with rjust, ljust or center."
      ]
    },
    {
      "cell_type": "code",
      "metadata": {
        "colab": {
          "base_uri": "https://localhost:8080/"
        },
        "id": "mc-zfSZ6laJh",
        "outputId": "80fbde52-a93a-456a-f710-71afc0ff8933"
      },
      "source": [
        "\n",
        "thickness = int(input()) #This must be an odd number\n",
        "c = 'H'\n",
        "\n",
        "#Top Cone\n",
        "for i in range(thickness):\n",
        "    print((c*i).rjust(thickness-1)+c+(c*i).ljust(thickness-1))\n",
        "\n",
        "#Top Pillars\n",
        "for i in range(thickness+1):\n",
        "    print((c*thickness).center(thickness*2)+(c*thickness).center(thickness*6))\n",
        "\n",
        "#Middle Belt\n",
        "for i in range((thickness+1)//2):\n",
        "    print((c*thickness*5).center(thickness*6))    \n",
        "\n",
        "#Bottom Pillars\n",
        "for i in range(thickness+1):\n",
        "    print((c*thickness).center(thickness*2)+(c*thickness).center(thickness*6))    \n",
        "\n",
        "#Bottom Cone\n",
        "for i in range(thickness):\n",
        "    print(((c*(thickness-i-1)).rjust(thickness)+c+(c*(thickness-i-1)).ljust(thickness)).rjust(thickness*6))\n"
      ],
      "execution_count": 13,
      "outputs": [
        {
          "output_type": "stream",
          "name": "stdout",
          "text": [
            "6\n",
            "     H     \n",
            "    HHH    \n",
            "   HHHHH   \n",
            "  HHHHHHH  \n",
            " HHHHHHHHH \n",
            "HHHHHHHHHHH\n",
            "   HHHHHH                  HHHHHH               \n",
            "   HHHHHH                  HHHHHH               \n",
            "   HHHHHH                  HHHHHH               \n",
            "   HHHHHH                  HHHHHH               \n",
            "   HHHHHH                  HHHHHH               \n",
            "   HHHHHH                  HHHHHH               \n",
            "   HHHHHH                  HHHHHH               \n",
            "   HHHHHHHHHHHHHHHHHHHHHHHHHHHHHH   \n",
            "   HHHHHHHHHHHHHHHHHHHHHHHHHHHHHH   \n",
            "   HHHHHHHHHHHHHHHHHHHHHHHHHHHHHH   \n",
            "   HHHHHH                  HHHHHH               \n",
            "   HHHHHH                  HHHHHH               \n",
            "   HHHHHH                  HHHHHH               \n",
            "   HHHHHH                  HHHHHH               \n",
            "   HHHHHH                  HHHHHH               \n",
            "   HHHHHH                  HHHHHH               \n",
            "   HHHHHH                  HHHHHH               \n",
            "                        HHHHHHHHHHH \n",
            "                         HHHHHHHHH  \n",
            "                          HHHHHHH   \n",
            "                           HHHHH    \n",
            "                            HHH     \n",
            "                             H      \n"
          ]
        }
      ]
    },
    {
      "cell_type": "markdown",
      "metadata": {
        "id": "1gXCQQqQleVU"
      },
      "source": [
        "#8. Text Wrap"
      ]
    },
    {
      "cell_type": "markdown",
      "metadata": {
        "id": "rfO6Gy8GlkRd"
      },
      "source": [
        "You are given a string  and width .\n",
        "Your task is to wrap the string into a paragraph of width ."
      ]
    },
    {
      "cell_type": "code",
      "metadata": {
        "colab": {
          "base_uri": "https://localhost:8080/"
        },
        "id": "E0Zud2vWloez",
        "outputId": "899b5d45-0d5b-4810-93fb-2b49795864eb"
      },
      "source": [
        "import textwrap\n",
        "\n",
        "def wrap(string, max_width):\n",
        "    for i in range(0, len(string), max_width):\n",
        "        print(string[i: i+ max_width])\n",
        "        x = \"\"\n",
        "        x= x+\"\\n\"\n",
        "        \n",
        "    return x\n",
        "    \n",
        "\n",
        "if __name__ == '__main__':\n",
        "    string, max_width = input(), int(input())\n",
        "    result = wrap(string, max_width)\n",
        "    print(result)"
      ],
      "execution_count": 16,
      "outputs": [
        {
          "output_type": "stream",
          "name": "stdout",
          "text": [
            "asbcjx,cnao;jfo;dcmdkcnd\n",
            "3\n",
            "asb\n",
            "cjx\n",
            ",cn\n",
            "ao;\n",
            "jfo\n",
            ";dc\n",
            "mdk\n",
            "cnd\n",
            "\n",
            "\n"
          ]
        }
      ]
    },
    {
      "cell_type": "markdown",
      "metadata": {
        "id": "Uq-t29amlzBt"
      },
      "source": [
        "#9. Designer Door Mat\n",
        "\n"
      ]
    },
    {
      "cell_type": "markdown",
      "metadata": {
        "id": "zQ3dMBTal16H"
      },
      "source": [
        "Mr. Vincent works in a door mat manufacturing company. One day, he designed a new door mat with the following specifications:\n",
        "\n",
        "Mat size must be N X M. ( N is an odd natural number, and M is 3 times N.)\n",
        "The design should have 'WELCOME' written in the center.\n",
        "The design pattern should only use |, . and - characters."
      ]
    },
    {
      "cell_type": "code",
      "metadata": {
        "colab": {
          "base_uri": "https://localhost:8080/"
        },
        "id": "KJJ9wetulrT1",
        "outputId": "d2f53b7c-f80b-4a4c-9f37-6229816868e6"
      },
      "source": [
        "\n",
        "n , m= map(int,input().split(\" \")) # Odd natural number\n",
        "c = \"-\"\n",
        "h = \".|.\"\n",
        "comma = \",\"\n",
        "word = \"WELCOME\"\n",
        "\n",
        "# Top portion\n",
        "for i in range((n-1)//2):\n",
        "    print((h*((i*2)+1)).center(m,'-'))\n",
        "\n",
        "# Middle Portion\n",
        "print(word.center(m,'-'))\n",
        "#print(word.center(m,'-'))\n",
        "\n",
        "# Bottom Portion\n",
        "for i in range(((n//2)-1),-1,-1):\n",
        "    print((h*((i*2)+1)).center(m,'-'))\n"
      ],
      "execution_count": 17,
      "outputs": [
        {
          "output_type": "stream",
          "name": "stdout",
          "text": [
            "9 27\n",
            "------------.|.------------\n",
            "---------.|..|..|.---------\n",
            "------.|..|..|..|..|.------\n",
            "---.|..|..|..|..|..|..|.---\n",
            "----------WELCOME----------\n",
            "---.|..|..|..|..|..|..|.---\n",
            "------.|..|..|..|..|.------\n",
            "---------.|..|..|.---------\n",
            "------------.|.------------\n"
          ]
        }
      ]
    },
    {
      "cell_type": "markdown",
      "metadata": {
        "id": "IEBZOEcxmJOB"
      },
      "source": [
        "#10. String Formatting"
      ]
    },
    {
      "cell_type": "markdown",
      "metadata": {
        "id": "yTVlHHpXmPIl"
      },
      "source": [
        "Given an integer, n, print the following values for each integer i from 1 to n:\n",
        "\n",
        "1. Decimal\n",
        "2. Octal\n",
        "3. Hexadecimal (capitalized)\n",
        "4. Binary"
      ]
    },
    {
      "cell_type": "code",
      "metadata": {
        "colab": {
          "base_uri": "https://localhost:8080/"
        },
        "id": "dCpqOLdimfHI",
        "outputId": "e72d01bb-f11f-4760-df7f-99915af72ac7"
      },
      "source": [
        "def print_formatted(number):\n",
        "    \n",
        "    for i in range(1, number+1):\n",
        "        octa = str(oct(i)[2:])\n",
        "        hexa = str(hex(i)[2:].upper())\n",
        "        binar = str(bin(i)[2:])\n",
        "        width = number.bit_length()\n",
        "        print(str(i).rjust(width,\" \"), octa.rjust(width,\" \"), hexa.rjust(width,\" \"), binar.rjust(width,\" \"))\n",
        "\n",
        "if __name__ == '__main__':\n",
        "    n = int(input())\n",
        "    print_formatted(n)"
      ],
      "execution_count": 18,
      "outputs": [
        {
          "output_type": "stream",
          "name": "stdout",
          "text": [
            "5\n",
            "  1   1   1   1\n",
            "  2   2   2  10\n",
            "  3   3   3  11\n",
            "  4   4   4 100\n",
            "  5   5   5 101\n"
          ]
        }
      ]
    },
    {
      "cell_type": "markdown",
      "metadata": {
        "id": "PqoGH1jemf6B"
      },
      "source": [
        "#11. Capitalize!"
      ]
    },
    {
      "cell_type": "markdown",
      "metadata": {
        "id": "hZqOQMCqmli-"
      },
      "source": [
        "You are asked to ensure that the first and last names of people begin with a capital letter in their passports. For example, alison heck should be capitalised correctly as Alison Heck."
      ]
    },
    {
      "cell_type": "code",
      "metadata": {
        "colab": {
          "base_uri": "https://localhost:8080/",
          "height": 69
        },
        "id": "PqPQJZb_mrqL",
        "outputId": "98513da2-e274-4512-8b63-8fc6a285e5db"
      },
      "source": [
        "\n",
        "import math\n",
        "import os\n",
        "import random\n",
        "import re\n",
        "import sys\n",
        "\n",
        "s = input()\n",
        "def solve(s):\n",
        "     \n",
        "    name = s.split(\" \")\n",
        "    cap = [i.capitalize() for i in name]\n",
        "    return \" \".join(cap)\n",
        "\n",
        "result = solve(s)      \n",
        "'''\n",
        "if __name__ == '__main__':\n",
        "  fptr = open(os.environ['OUTPUT_PATH'], 'w')\n",
        "\n",
        "  s = input()\n",
        "\n",
        "  result = solve(s)\n",
        "\n",
        "  fptr.write(result + '\\n')\n",
        "\n",
        "  fptr.close()\n",
        "  '''"
      ],
      "execution_count": 25,
      "outputs": [
        {
          "name": "stdout",
          "output_type": "stream",
          "text": [
            "bhuvi kumar\n"
          ]
        },
        {
          "output_type": "execute_result",
          "data": {
            "application/vnd.google.colaboratory.intrinsic+json": {
              "type": "string"
            },
            "text/plain": [
              "\"\\nif __name__ == '__main__':\\n  fptr = open(os.environ['OUTPUT_PATH'], 'w')\\n\\n  s = input()\\n\\n  result = solve(s)\\n\\n  fptr.write(result + '\\n')\\n\\n  fptr.close()\\n  \""
            ]
          },
          "metadata": {},
          "execution_count": 25
        }
      ]
    },
    {
      "cell_type": "markdown",
      "metadata": {
        "id": "jfyZtOYbmogV"
      },
      "source": [
        "#12. The Minion Game"
      ]
    },
    {
      "cell_type": "markdown",
      "metadata": {
        "id": "IO6fP4fNm3BH"
      },
      "source": [
        "Your task is to determine the winner of the game and their score.\n"
      ]
    },
    {
      "cell_type": "code",
      "metadata": {
        "colab": {
          "base_uri": "https://localhost:8080/"
        },
        "id": "HOVZaGiym2l0",
        "outputId": "c13c69bc-cf83-4c95-f53b-a20249a3769d"
      },
      "source": [
        "def minion_game(string):\n",
        "    # Initials scores\n",
        "    Kevin = 0 \n",
        "    Stuart = 0\n",
        "    vowl = ['A','E','I','O','U']\n",
        "    \n",
        "    for i in range(len(string)):\n",
        "        if string[i] in vowl:\n",
        "            Kevin = Kevin + (len(string)-i)\n",
        "            \n",
        "        else :\n",
        "            Stuart =Stuart + (len(string)-i)\n",
        "    if Kevin > Stuart :\n",
        "        print(\"Kevin\",Kevin)\n",
        "    elif Kevin < Stuart:\n",
        "        print(\"Stuart\",Stuart)\n",
        "    else:\n",
        "        print(\"Draw\") \n",
        "\n",
        "if __name__ == '__main__':\n",
        "    s = input()\n",
        "    minion_game(s)"
      ],
      "execution_count": 26,
      "outputs": [
        {
          "output_type": "stream",
          "name": "stdout",
          "text": [
            "Apple\n",
            "Stuart 10\n"
          ]
        }
      ]
    },
    {
      "cell_type": "markdown",
      "metadata": {
        "id": "pr8cgVPqnIa5"
      },
      "source": [
        "#13. Merge the Tools!\n",
        "\n"
      ]
    },
    {
      "cell_type": "markdown",
      "metadata": {
        "id": "93dGHQtwnNlt"
      },
      "source": [
        "Print each subsequence on a new line. There will be n/k of them. No return value is expected"
      ]
    },
    {
      "cell_type": "code",
      "metadata": {
        "colab": {
          "base_uri": "https://localhost:8080/"
        },
        "id": "bU1J8tA7nVv6",
        "outputId": "95d42d77-fbfd-4ca7-a97b-d237c7faa41f"
      },
      "source": [
        "def merge_the_tools(string, k):\n",
        "\n",
        "    # Following code will make pairs from string and if there is any duplicate it will remvove them\n",
        "    for i in range(0, len(string), k):\n",
        "        df = string[i:(i+k)]\n",
        "        alpha = []\n",
        "        for j in df :\n",
        "            if j not in alpha :\n",
        "                alpha.append(j)\n",
        "        print(\"\".join(alpha))\n",
        "\n",
        "if __name__ == '__main__':\n",
        "    string, k = input(), int(input())\n",
        "    merge_the_tools(string, k)"
      ],
      "execution_count": 28,
      "outputs": [
        {
          "output_type": "stream",
          "name": "stdout",
          "text": [
            "ashgjcbhdalhailsduie \n",
            "3\n",
            "ash\n",
            "gjc\n",
            "bhd\n",
            "alh\n",
            "ail\n",
            "sdu\n",
            "ie \n"
          ]
        }
      ]
    }
  ]
}