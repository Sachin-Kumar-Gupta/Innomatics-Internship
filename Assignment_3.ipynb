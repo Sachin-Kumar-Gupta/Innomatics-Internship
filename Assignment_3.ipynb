{
  "nbformat": 4,
  "nbformat_minor": 0,
  "metadata": {
    "colab": {
      "name": "Assignment 2.ipynb",
      "provenance": []
    },
    "kernelspec": {
      "name": "python3",
      "display_name": "Python 3"
    },
    "language_info": {
      "name": "python"
    }
  },
  "cells": [
    {
      "cell_type": "markdown",
      "metadata": {
        "id": "gZAPPQmMUt4C"
      },
      "source": [
        "#Polar Coordinates\n"
      ]
    },
    {
      "cell_type": "markdown",
      "metadata": {
        "id": "omV3GJ2Jc2Yr"
      },
      "source": [
        "You are given a complex z. Your task is to convert it to polar coordinates."
      ]
    },
    {
      "cell_type": "code",
      "metadata": {
        "id": "1oVAMGE9Uq-P",
        "colab": {
          "base_uri": "https://localhost:8080/"
        },
        "outputId": "ea5a0f37-b6bc-46a1-814d-671ed6161e25"
      },
      "source": [
        "# Cmath module provides access to the mathematical functions for complex numbers.\n",
        "from cmath import phase\n",
        "\n",
        "z = complex(input())\n",
        "\n",
        "# Distance from z to origin\n",
        "print(abs(z))\n",
        "\n",
        "# Phase angle\n",
        "print(phase(z))"
      ],
      "execution_count": 5,
      "outputs": [
        {
          "output_type": "stream",
          "name": "stdout",
          "text": [
            "5+2j\n",
            "5.385164807134504\n",
            "0.3805063771123649\n"
          ]
        }
      ]
    },
    {
      "cell_type": "markdown",
      "metadata": {
        "id": "N42fKBr-cKFZ"
      },
      "source": [
        "# Find Angle MBC"
      ]
    },
    {
      "cell_type": "markdown",
      "metadata": {
        "id": "2sH0cOJ7cQQ9"
      },
      "source": [
        "Right angle triangle is given and Point M is the midpoint of hypotenuse AC.\n",
        "You are given the lengths AB(perpendicular) and BC(base).\n",
        "Your task is to find angle MAC in degrees."
      ]
    },
    {
      "cell_type": "code",
      "metadata": {
        "colab": {
          "base_uri": "https://localhost:8080/"
        },
        "id": "o6F8GUr6cJrs",
        "outputId": "c5cdb111-ed42-4455-a865-5f25804fb48d"
      },
      "source": [
        "import math\n",
        "\n",
        "# Length of AB and BC by user input\n",
        "\n",
        "AB = int(input())\n",
        "BC = int(input())\n",
        "\n",
        "# Finding angle C of right angle triangle\n",
        "\n",
        "C = math.atan(AB/BC)\n",
        "\n",
        "# Opposite angle will be equal, so angle  C is equal to angle MAC.\n",
        "print(str(round(math.degrees(C)))+chr(176)) # chr(176) is used to add degree symbol.\n"
      ],
      "execution_count": 6,
      "outputs": [
        {
          "output_type": "stream",
          "name": "stdout",
          "text": [
            "10\n",
            "10\n",
            "45°\n"
          ]
        }
      ]
    },
    {
      "cell_type": "markdown",
      "metadata": {
        "id": "lHmsFmHsdLlP"
      },
      "source": [
        "# Triangle Quest 2"
      ]
    },
    {
      "cell_type": "markdown",
      "metadata": {
        "id": "gdt5bZ_odTsh"
      },
      "source": [
        "You are given a positive integer N.\n",
        "Your task is to print a palindromic triangle of size N. You can't take more than two lines. "
      ]
    },
    {
      "cell_type": "markdown",
      "metadata": {
        "id": "UC3qB8tsd1dt"
      },
      "source": [
        " Palindromic is a words or numbers,if reversed it is still identital to original."
      ]
    },
    {
      "cell_type": "code",
      "metadata": {
        "colab": {
          "base_uri": "https://localhost:8080/"
        },
        "id": "wgnr5BiPda_w",
        "outputId": "a7f59df9-e9d2-43a7-8633-8cfa18bd2aee"
      },
      "source": [
        "for i in range(1,int(input())+1):\n",
        "    print((((10**i)-1)//9)**2)"
      ],
      "execution_count": 7,
      "outputs": [
        {
          "output_type": "stream",
          "name": "stdout",
          "text": [
            "6\n",
            "1\n",
            "121\n",
            "12321\n",
            "1234321\n",
            "123454321\n",
            "12345654321\n"
          ]
        }
      ]
    },
    {
      "cell_type": "markdown",
      "metadata": {
        "id": "JwSergT_ek7Q"
      },
      "source": [
        "# Mod Divmod"
      ]
    },
    {
      "cell_type": "markdown",
      "metadata": {
        "id": "e1uXXBwoemIF"
      },
      "source": [
        "Read in two integers, a and b, and print three lines.\n",
        "The first line is the integer division a//b.\n",
        "The second line is the result of the modulo operator: a%b .\n",
        "The third line prints the divmod of a and b."
      ]
    },
    {
      "cell_type": "code",
      "metadata": {
        "colab": {
          "base_uri": "https://localhost:8080/"
        },
        "id": "_bYfbMHxe2Cw",
        "outputId": "0a47d08b-ef79-44b8-84de-f5ba37288652"
      },
      "source": [
        "# Taking user input values\n",
        "a = int(input())\n",
        "b = int(input())\n",
        "\n",
        "# Value of a divide by b\n",
        "print(a//b)\n",
        "\n",
        "# Remainder after a divide by b\n",
        "print(a%b)\n",
        "\n",
        "#Priting remainder and quotient using divmod\n",
        "print(divmod(a,b))"
      ],
      "execution_count": 8,
      "outputs": [
        {
          "output_type": "stream",
          "name": "stdout",
          "text": [
            "8\n",
            "6\n",
            "1\n",
            "2\n",
            "(1, 2)\n"
          ]
        }
      ]
    },
    {
      "cell_type": "markdown",
      "metadata": {
        "id": "q2w6cqnNe46y"
      },
      "source": [
        "# Power - Mod Power"
      ]
    },
    {
      "cell_type": "markdown",
      "metadata": {
        "id": "29oXpylpe961"
      },
      "source": [
        "You are given three integers: a, b and m. Print two lines.\n",
        "On the first line, print the result of pow(a,b). On the second line, print the result of pow(a,b,m)."
      ]
    },
    {
      "cell_type": "code",
      "metadata": {
        "colab": {
          "base_uri": "https://localhost:8080/"
        },
        "id": "t9nOtgFDfFnF",
        "outputId": "a1911033-a2fb-422b-f6fb-d8896d269156"
      },
      "source": [
        "# User Input\n",
        "a = int(input())\n",
        "b = int(input())\n",
        "m = int(input())\n",
        "\n",
        "# a to power b\n",
        "print(pow(a,b))  # Pow is a python function to find power of number.\n",
        "\n",
        "# Power with mod\n",
        "print(pow(a,b,m))"
      ],
      "execution_count": 9,
      "outputs": [
        {
          "output_type": "stream",
          "name": "stdout",
          "text": [
            "2\n",
            "4\n",
            "3\n",
            "16\n",
            "1\n"
          ]
        }
      ]
    },
    {
      "cell_type": "markdown",
      "metadata": {
        "id": "QjkGq196fJKl"
      },
      "source": [
        "# Integers Come In All Sizes"
      ]
    },
    {
      "cell_type": "markdown",
      "metadata": {
        "id": "_l3mqbXzfPqV"
      },
      "source": [
        "Read four numbers, a, b, c and d, and print the result of (a^b) + (c^d)."
      ]
    },
    {
      "cell_type": "code",
      "metadata": {
        "colab": {
          "base_uri": "https://localhost:8080/"
        },
        "id": "7y9vnP92fdLI",
        "outputId": "14c3f28e-2081-4d88-fdc1-c1e7a86f811f"
      },
      "source": [
        "# Taking user input values\n",
        "a = int(input())\n",
        "b = int(input())\n",
        "c = int(input())\n",
        "d = int(input())\n",
        "\n",
        "#Sum of tow values, ato power b and c to power d\n",
        "print(pow(a,b)+pow(c,d))"
      ],
      "execution_count": 10,
      "outputs": [
        {
          "output_type": "stream",
          "name": "stdout",
          "text": [
            "2\n",
            "4\n",
            "8\n",
            "9\n",
            "134217744\n"
          ]
        }
      ]
    },
    {
      "cell_type": "markdown",
      "metadata": {
        "id": "nZNL-Keifz8E"
      },
      "source": [
        "# Triangle Quest"
      ]
    },
    {
      "cell_type": "markdown",
      "metadata": {
        "id": "Bee4vK6sf1uy"
      },
      "source": [
        "You are given a positive integer N. Print a numerical triangle of height N-1 like :\n",
        "\n",
        "1\n",
        "\n",
        "22\n",
        "\n",
        "333\n",
        "\n",
        "4444\n",
        "\n",
        "55555\n",
        "\n",
        "Do it using only arithmetic operations, a single for loop and print statement."
      ]
    },
    {
      "cell_type": "code",
      "metadata": {
        "colab": {
          "base_uri": "https://localhost:8080/"
        },
        "id": "OIlghoDWftAc",
        "outputId": "e0909e7a-81dc-49d2-fc35-57ba27e05cf6"
      },
      "source": [
        "for i in range(1,int(input())): \n",
        "    print(i*(((10**i)-1)//9))\n"
      ],
      "execution_count": 11,
      "outputs": [
        {
          "output_type": "stream",
          "name": "stdout",
          "text": [
            "6\n",
            "1\n",
            "22\n",
            "333\n",
            "4444\n",
            "55555\n"
          ]
        }
      ]
    }
  ]
}