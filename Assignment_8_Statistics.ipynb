{
  "nbformat": 4,
  "nbformat_minor": 0,
  "metadata": {
    "colab": {
      "name": "Assignment 7- Statistics.ipynb",
      "provenance": []
    },
    "kernelspec": {
      "name": "python3",
      "display_name": "Python 3"
    },
    "language_info": {
      "name": "python"
    }
  },
  "cells": [
    {
      "cell_type": "markdown",
      "metadata": {
        "id": "zBtdtd3GFvAo"
      },
      "source": [
        "# Task-1 : Binomial Distribution I\n",
        "\n"
      ]
    },
    {
      "cell_type": "markdown",
      "metadata": {
        "id": "TnB0hDIrFu1h"
      },
      "source": [
        "The ratio of boys to girls for babies born in Russia is 1.09 : 1. If there is  child born per birth, what proportion of Russian families with exactly 6 children will have at least 3 boys?\n",
        "\n",
        "Write a program to compute the answer using the above parameters. Then print your result, rounded to a scale of 3 decimal places."
      ]
    },
    {
      "cell_type": "code",
      "metadata": {
        "colab": {
          "base_uri": "https://localhost:8080/"
        },
        "id": "Slc8zfnMFh-V",
        "outputId": "a6981f63-ea50-41fc-d4e9-37033171b540"
      },
      "source": [
        "import math\n",
        "# Total 6 number of trails. \n",
        "def binomial(x,p):\n",
        "    a = p**x\n",
        "    q = (1-p)**(6-x)\n",
        "    b = ((math.factorial(6)/(math.factorial(x)*math.factorial(6-x)))*a*q)\n",
        "    return b\n",
        "\n",
        "x , y= map(float,input().split()) # Number of boys in ratio and Number of girls in ratio\n",
        "t = (x+y) # Total sample space\n",
        "p = x/t\n",
        "b = 0\n",
        "\n",
        "# We have to find probability of atleast 3 boys out of 6 so range will be 3 to 7\n",
        "for i in range(3,7):\n",
        "    b += binomial(i,p)\n",
        "    \n",
        "print('%.3f'%b)"
      ],
      "execution_count": 1,
      "outputs": [
        {
          "output_type": "stream",
          "name": "stdout",
          "text": [
            "1.09 1\n",
            "0.696\n"
          ]
        }
      ]
    },
    {
      "cell_type": "markdown",
      "metadata": {
        "id": "kKYL3ckIGDrk"
      },
      "source": [
        "# Task-2 : Normal Distribution I"
      ]
    },
    {
      "cell_type": "markdown",
      "metadata": {
        "id": "axsCHzrWGJiU"
      },
      "source": [
        "In a certain plant, the time taken to assemble a car is a random variable, X, having a normal distribution with a mean of 20 hours and a standard deviation of 2 hours. What is the probability that a car can be assembled at this plant in:\n",
        "\n",
        "1. Less than 19.5 hours?\n",
        "2. Between 20 and 22 hours?"
      ]
    },
    {
      "cell_type": "code",
      "metadata": {
        "colab": {
          "base_uri": "https://localhost:8080/"
        },
        "id": "8lAkVMmpGPDS",
        "outputId": "4d4204b7-8197-43b6-d8c9-bc43ae5031a5"
      },
      "source": [
        "import math\n",
        "\n",
        "mean, sd = map(int,input().split())\n",
        "x1 = float(input())\n",
        "x2, x3 = map(int, input().split())\n",
        "\n",
        "# As we have limits, so we have to find cummulative distribution\n",
        "\n",
        "def cumm_dis(x):\n",
        "    z = ((x - mean)/(math.sqrt(2)*sd))\n",
        "    phi = (1 + (math.erf(z)))*0.5\n",
        "    return phi\n",
        "\n",
        "\n",
        "print('%.3f'%cumm_dis(x1))\n",
        "\n",
        "b = cumm_dis(x3) - cumm_dis(x2)\n",
        "\n",
        "print('%.3f'%b)\n"
      ],
      "execution_count": 3,
      "outputs": [
        {
          "output_type": "stream",
          "name": "stdout",
          "text": [
            "20 2\n",
            "19.5\n",
            "20 22\n",
            "0.401\n",
            "0.341\n"
          ]
        }
      ]
    },
    {
      "cell_type": "markdown",
      "metadata": {
        "id": "WgT0_wQtGVpT"
      },
      "source": [
        "# Task-3 : Normal Distribution II"
      ]
    },
    {
      "cell_type": "markdown",
      "metadata": {
        "id": "L_GxFcmNGe6u"
      },
      "source": [
        "The final grades for a Physics exam taken by a large group of students have a mean of 70 and a standard deviation of 10. If we can approximate the distribution of these grades by a normal distribution, what percentage of the students:\n",
        "\n",
        "1. Scored higher than 80 (i.e., have a >80)?\n",
        "2. Passed the test (i.e., have a >= 60)?\n",
        "3. Failed the test (i.e., have a < 60)?\n",
        "\n",
        "Find and print the answer to each question on a new line, rounded to a scale of 2 decimal places."
      ]
    },
    {
      "cell_type": "code",
      "metadata": {
        "colab": {
          "base_uri": "https://localhost:8080/"
        },
        "id": "KM5hQz_NGmY8",
        "outputId": "c5c21e95-c28c-4389-f4f6-093eddf03d2e"
      },
      "source": [
        "import math\n",
        "\n",
        "mean, sd = map(int,input().split())\n",
        "score = int(input())\n",
        "num = int(input())\n",
        "\n",
        "def cumm_dis(x):\n",
        "    z = ((x - mean)/(math.sqrt(2)*sd))\n",
        "    phi = (1 + (math.erf(z)))*0.5\n",
        "    return phi\n",
        "\n",
        "print('%.2f'%((1-cumm_dis(score))*100))\n",
        "print('%.2f'%((1-cumm_dis(num))*100))\n",
        "print('%.2f'%((cumm_dis(num))*100))\n"
      ],
      "execution_count": 5,
      "outputs": [
        {
          "output_type": "stream",
          "name": "stdout",
          "text": [
            "70 10\n",
            "80\n",
            "60\n",
            "15.87\n",
            "84.13\n",
            "15.87\n"
          ]
        }
      ]
    },
    {
      "cell_type": "markdown",
      "metadata": {
        "id": "NFvoDs4FG1IC"
      },
      "source": [
        "# Task-4 : The Central Limit Theorem I"
      ]
    },
    {
      "cell_type": "markdown",
      "metadata": {
        "id": "yGK_ZacFG6tU"
      },
      "source": [
        "A large elevator can transport a maximum of 9800 pounds. Suppose a load of cargo containing 49 boxes must be transported via the elevator. The box weight of this type of cargo follows a distribution with a mean of 205 pounds and a standard deviation of 15 pounds. Based on this information, what is the probability that all 49 boxes can be safely loaded into the freight elevator and transported?"
      ]
    },
    {
      "cell_type": "code",
      "metadata": {
        "colab": {
          "base_uri": "https://localhost:8080/"
        },
        "id": "HiZZzg3pHWRN",
        "outputId": "9b0b795f-f8b7-497f-baf4-2b4969b4a6c6"
      },
      "source": [
        "import math\n",
        "\n",
        "max_weight = int(input())\n",
        "box = int(input())\n",
        "mean = int(input())\n",
        "sd = int(input())\n",
        "\n",
        "total = box * mean\n",
        "sums = math.sqrt(box) * sd\n",
        "\n",
        "def clt(x, y, z):\n",
        "    d = (x - y)/z\n",
        "    return 0.5*(1 + math.erf(d/(math.sqrt(2))))\n",
        "\n",
        "print('%.4f'%(clt(max_weight, total,sums)))\n"
      ],
      "execution_count": 6,
      "outputs": [
        {
          "output_type": "stream",
          "name": "stdout",
          "text": [
            "9800\n",
            "49\n",
            "205\n",
            "15\n",
            "0.0098\n"
          ]
        }
      ]
    },
    {
      "cell_type": "markdown",
      "metadata": {
        "id": "U1Jq7PyBHg6K"
      },
      "source": [
        "# Task-5 : The Central Limit Theorem II\n",
        "\n"
      ]
    },
    {
      "cell_type": "markdown",
      "metadata": {
        "id": "gZK0kQlNHmh9"
      },
      "source": [
        "The number of tickets purchased by each student for the University X vs. University Y football game follows a distribution that has a mean of 2.4 and a standard deviation of 2.\n",
        "\n",
        "A few hours before the game starts, 100 eager students line up to purchase last-minute tickets. If there are only 250 tickets left, what is the probability that all 100 students will be able to purchase tickets?"
      ]
    },
    {
      "cell_type": "code",
      "metadata": {
        "colab": {
          "base_uri": "https://localhost:8080/"
        },
        "id": "XwATGQRUHqMV",
        "outputId": "9c3642de-68a7-48a2-b5cf-971fefeaf9c0"
      },
      "source": [
        "import math\n",
        "\n",
        "tickets = int(input()) # Number of lst minute tickets avialbale\n",
        "std = int(input()) # Number of students\n",
        "mean = float(input()) # Mean value\n",
        "sd = float(input()) # Standard Deviation\n",
        "\n",
        "total = std * mean\n",
        "sums = math.sqrt(std) * sd\n",
        "\n",
        "def purchase(ticket, mean, sd):\n",
        "    d = (ticket - mean)/sd\n",
        "    return 0.5*(1 + math.erf(d/(math.sqrt(2))))\n",
        "\n",
        "print('%.4f'%(purchase(tickets, total ,sums )))\n"
      ],
      "execution_count": 7,
      "outputs": [
        {
          "output_type": "stream",
          "name": "stdout",
          "text": [
            "250\n",
            "100\n",
            "2.4\n",
            "2\n",
            "0.6915\n"
          ]
        }
      ]
    },
    {
      "cell_type": "markdown",
      "metadata": {
        "id": "jTJNvZ_BHw8Y"
      },
      "source": [
        "# Task-6 : The Central Limit Theorem III\n",
        "\n"
      ]
    },
    {
      "cell_type": "markdown",
      "metadata": {
        "id": "6FGH4C1PH4UF"
      },
      "source": [
        "You have a sample of 100 values from a population with mean 500 and with standard deviation 80. Compute the interval that covers the middle 95% of the distribution of the sample mean; in other words, compute A and B such that P(A<x<B)= 0.95 . Use the value of z = 1.96"
      ]
    },
    {
      "cell_type": "code",
      "metadata": {
        "colab": {
          "base_uri": "https://localhost:8080/"
        },
        "id": "7MIyHFBXIAgL",
        "outputId": "beb36ace-7058-49dd-b0a8-bcce0a154fbf"
      },
      "source": [
        "import math\n",
        "\n",
        "sample_size = int(input())\n",
        "mean = int(input())\n",
        "sd = int(input())\n",
        "dist = float(input())\n",
        "z = float(input())\n",
        "\n",
        "\n",
        "sums = sd / (math.sqrt(sample_size))\n",
        "\n",
        "A = mean - (z*sums)\n",
        "\n",
        "B = mean + (z*sums)\n",
        "\n",
        "print('%.2f'%A) # Value of A\n",
        "\n",
        "print('%.2f'%B) # Value of B\n"
      ],
      "execution_count": 8,
      "outputs": [
        {
          "output_type": "stream",
          "name": "stdout",
          "text": [
            "100\n",
            "500\n",
            "80\n",
            ".95\n",
            "1.96\n",
            "484.32\n",
            "515.68\n"
          ]
        }
      ]
    },
    {
      "cell_type": "markdown",
      "metadata": {
        "id": "lop9VUP2IFxj"
      },
      "source": [
        "# Task-7 : Pearson Correlation Coefficient I\n",
        "\n"
      ]
    },
    {
      "cell_type": "markdown",
      "metadata": {
        "id": "zg2tWqeJIMyN"
      },
      "source": [
        "Given two n-element data sets, X and Y, calculate the value of the Pearson correlation coefficient."
      ]
    },
    {
      "cell_type": "code",
      "metadata": {
        "colab": {
          "base_uri": "https://localhost:8080/"
        },
        "id": "dO1dk04MIiNT",
        "outputId": "25156c89-b624-47cb-8245-9967eda5c1ff"
      },
      "source": [
        "import statistics\n",
        "\n",
        "n = int(input()) # Size of data set.\n",
        "X = list(map(float,input().split()))\n",
        "Y = list(map(float,input().split()))\n",
        "\n",
        "x = statistics.mean(X)\n",
        "y = statistics.mean(Y)\n",
        "\n",
        "d = 0\n",
        "for i in range(n):\n",
        "    a = X[i]- x\n",
        "    b = Y[i]- y\n",
        "    c = float(a*b)\n",
        "    d += c\n",
        "    \n",
        "cov = (d/n)\n",
        "\n",
        "stdv1 = (sum([(i - x)**2 for i in X]) / n)**0.5\n",
        "stdv2 = (sum([(i - y)**2 for i in Y]) / n)**0.5\n",
        "pearson = cov/(stdv1*stdv2)\n",
        "\n",
        "print('%.3f'%pearson)\n"
      ],
      "execution_count": 9,
      "outputs": [
        {
          "output_type": "stream",
          "name": "stdout",
          "text": [
            "10\n",
            "10 9.8 8 7.8 7.7 7 6 5 4 2 \n",
            "200 44 32 24 22 17 15 12 8 4\n",
            "0.612\n"
          ]
        }
      ]
    },
    {
      "cell_type": "markdown",
      "metadata": {
        "id": "LnsAb5L3I1nk"
      },
      "source": [
        "# Task-8 : Least Square Regression Line\n"
      ]
    },
    {
      "cell_type": "markdown",
      "metadata": {
        "id": "gXGakkJUI4BE"
      },
      "source": [
        "A group of five students enrolls in Statistics immediately after taking a Math aptitude test. Each student's Math aptitude test score,x , and Statistics course grade,y , can be expressed as the following list of (x,y) points:\n",
        "1. (95,85)\n",
        "2. (85,95)\n",
        "3. (80,70)\n",
        "4. (70,65)\n",
        "5. (60,70)\n"
      ]
    },
    {
      "cell_type": "code",
      "metadata": {
        "colab": {
          "base_uri": "https://localhost:8080/"
        },
        "id": "NooPCichJCdh",
        "outputId": "935211d5-a226-4f1a-9075-f2bfc7dfbbab"
      },
      "source": [
        "import statistics\n",
        "x = []\n",
        "y = []\n",
        "\n",
        "for i in range(5):\n",
        "    num = list(map(int,input().split()))\n",
        "    x.append(num[0])\n",
        "    y.append(num[1])\n",
        "\n",
        "# Finding value of b\n",
        "a = 0\n",
        "for i in range(5):\n",
        "    a1 = x[i]*y[i]\n",
        "    a += a1\n",
        "    \n",
        "c =0\n",
        "d = 0\n",
        "for i in range(5):\n",
        "    c1 = x[i]\n",
        "    d1 = y[i]\n",
        "    c += c1\n",
        "    d += d1\n",
        "\n",
        "\n",
        "e = 0\n",
        "for i in range(5):\n",
        "    e1 = x[i]**2\n",
        "    e += e1\n",
        "    \n",
        "b = ((5*a)-(c*d))/((5*e)-(c**2))\n",
        "\n",
        "# Finding value of a\n",
        "a2 = statistics.mean(y) - (b*(statistics.mean(x)))\n",
        "\n",
        "# Value of y when x = 80\n",
        "y1 = a2 + (b*80)\n",
        "print('%.3f'%y1)\n"
      ],
      "execution_count": 10,
      "outputs": [
        {
          "output_type": "stream",
          "name": "stdout",
          "text": [
            "95 85\n",
            "85 95\n",
            "80 70\n",
            "70 65\n",
            "60 50\n",
            "75.274\n"
          ]
        }
      ]
    },
    {
      "cell_type": "markdown",
      "metadata": {
        "id": "psjw2iwMJIA4"
      },
      "source": [
        "# Task-9 : Multiple Linear Regression\n",
        "\n"
      ]
    },
    {
      "cell_type": "markdown",
      "metadata": {
        "id": "JwunKnwkJOh8"
      },
      "source": [
        "Andrea has a simple equation:\n",
        "                  Y = a+b1*f1+b2*f2......bm*fm\n",
        "for (m+1) real constants (a,f1 ,f2 ,f3 ,fm ). We can say that the value of  Y depends on m features. Andrea studies this equation for n different feature sets  and records each respective value of Y. If she has  new feature sets, can you help Andrea find the value of  for each of the sets?"
      ]
    },
    {
      "cell_type": "code",
      "metadata": {
        "colab": {
          "base_uri": "https://localhost:8080/"
        },
        "id": "5Z6qxHzUJX7_",
        "outputId": "36f65eaf-a2ab-4b0c-c2cb-6b3c1391afd7"
      },
      "source": [
        "import numpy as np\n",
        "# Taking user input , m denotes number of features and n denotes different features set\n",
        "m,n = map(int,input().split())\n",
        "\n",
        "# Creating empty list\n",
        "X = [] #Independent variable\n",
        "Y = [] # Dependent variable\n",
        "\n",
        "for i in range(n):\n",
        "    df = input().split(\" \")\n",
        "    X.append(df[:m])\n",
        "    Y.append(df[m:])\n",
        "q = int(input())\n",
        "\n",
        "X_new = []\n",
        "\n",
        "for x in range(q):\n",
        "    X_new.append(input().split(' '))\n",
        "    \n",
        "X = np.array(X,float)\n",
        "Y = np.array(Y,float)\n",
        "X_new = np.array(X_new,float)\n",
        "\n",
        "#center\n",
        "X_center = X-np.mean(X,axis=0)\n",
        "Y_center = Y-np.mean(Y)\n",
        "\n",
        "\n",
        "num = np.dot(np.linalg.inv(np.dot(X_center.T,X_center)),np.dot(X_center.T,Y_center))\n",
        "\n",
        "#predict\n",
        "X_c = X_new-np.mean(X,axis=0)\n",
        "Y_c = np.dot(X_c,num)\n",
        "Y_new = Y_c + np.mean(Y)\n",
        "\n",
        "#print\n",
        "for i in Y_new:\n",
        "    print(round(float(i),2))\n"
      ],
      "execution_count": 11,
      "outputs": [
        {
          "output_type": "stream",
          "name": "stdout",
          "text": [
            "2 7\n",
            "0.18 0.89 109.85\n",
            "1.0 0.26 155.72\n",
            "0.92 0.11 137.66\n",
            "0.07 0.37 76.17\n",
            "0.85 0.16 139.75\n",
            "0.99 0.41 162.6\n",
            "0.87 0.47 151.77\n",
            "4\n",
            "0.49 0.18\n",
            "0.57 0.83\n",
            "0.56 0.64\n",
            "0.76 0.18\n",
            "105.21\n",
            "142.67\n",
            "132.94\n",
            "129.7\n"
          ]
        }
      ]
    }
  ]
}