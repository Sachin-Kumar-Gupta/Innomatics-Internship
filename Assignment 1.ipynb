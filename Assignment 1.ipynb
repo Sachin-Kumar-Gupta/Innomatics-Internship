{
  "nbformat": 4,
  "nbformat_minor": 0,
  "metadata": {
    "colab": {
      "name": "Task 1.ipynb",
      "provenance": []
    },
    "kernelspec": {
      "name": "python3",
      "display_name": "Python 3"
    },
    "language_info": {
      "name": "python"
    }
  },
  "cells": [
    {
      "cell_type": "markdown",
      "metadata": {
        "id": "5-jVn1T0wzaa"
      },
      "source": [
        "# Task 1\n",
        "Say \"Hello, World!\" With Python"
      ]
    },
    {
      "cell_type": "code",
      "metadata": {
        "colab": {
          "base_uri": "https://localhost:8080/"
        },
        "id": "dS0oMelKwZGT",
        "outputId": "77a1bf4b-0efe-4c18-f435-1e9b62d3229f"
      },
      "source": [
        "print(\"Hello, World!\")"
      ],
      "execution_count": 1,
      "outputs": [
        {
          "output_type": "stream",
          "name": "stdout",
          "text": [
            "Hello, World!\n"
          ]
        }
      ]
    },
    {
      "cell_type": "markdown",
      "metadata": {
        "id": "UVEgnJLhw263"
      },
      "source": [
        "# Task 2\n",
        "Given an integer, n , perform the following conditional actions:\n",
        "\n",
        "1. If n is odd, print Weird.\n",
        "2. If n is even and in the inclusive range of 2 to 5, print Not Weird.\n",
        "3. If n is even and in the inclusive range of 6 to 20, print Weird.\n",
        "4. If n is even and greater than 20, print Not Weird."
      ]
    },
    {
      "cell_type": "code",
      "metadata": {
        "colab": {
          "base_uri": "https://localhost:8080/"
        },
        "id": "I6Uu4enBxDCI",
        "outputId": "9fe31221-0cca-4feb-ce92-4bfbda38a3af"
      },
      "source": [
        "import math\n",
        "import os\n",
        "import random\n",
        "import re\n",
        "import sys\n",
        "\n",
        "\n",
        "\n",
        "if __name__ == '__main__':\n",
        "    n = int(input().strip()) # This code takes user input and assign it to variable n.\n",
        "\n",
        "if (n % 2) == 0 :\n",
        "    if (2 <= n < 5) :\n",
        "        print(\"Not Weird\")\n",
        "    elif (6 <= n <= 20) :\n",
        "        print(\"Weird\")\n",
        "    else:\n",
        "        print(\"Not Weird\")\n",
        "else :\n",
        "    print(\"Weird\")"
      ],
      "execution_count": 2,
      "outputs": [
        {
          "output_type": "stream",
          "name": "stdout",
          "text": [
            "6\n",
            "Weird\n"
          ]
        }
      ]
    },
    {
      "cell_type": "markdown",
      "metadata": {
        "id": "m68P_cilxbkt"
      },
      "source": [
        "# Task 3\n",
        "The provided code stub reads two integers from STDIN,  and . Add code to print three lines where:\n",
        "\n",
        "1. The first line contains the sum of the two numbers.\n",
        "2. The second line contains the difference of the two numbers (first - second).\n",
        "3. The third line contains the product of the two numbers."
      ]
    },
    {
      "cell_type": "code",
      "metadata": {
        "id": "0KAdyiCBx0jo"
      },
      "source": [
        "if __name__ == '__main__':\n",
        "    a = int(input())\n",
        "    b = int(input())\n",
        "    \n",
        "print(a+b) # Sum of a and b.\n",
        "print(a-b) # Difference of a and b.\n",
        "print(a*b) # Product of a and b.\n"
      ],
      "execution_count": null,
      "outputs": []
    },
    {
      "cell_type": "markdown",
      "metadata": {
        "id": "LbAenGBdyA4t"
      },
      "source": [
        "# Task 4\n",
        "The provided code stub reads two integers, a and b.\n",
        "\n",
        "Add logic to print two lines. The first line should contain the result of integer division,  a//b.\n",
        "The second line should contain the result of float division,  a/b .\n",
        "\n",
        "No rounding or formatting is necessary."
      ]
    },
    {
      "cell_type": "code",
      "metadata": {
        "colab": {
          "base_uri": "https://localhost:8080/"
        },
        "id": "XAkmoLLLx0eo",
        "outputId": "413b451f-0ebc-4035-b118-7e0352cb2a6c"
      },
      "source": [
        "if __name__ == '__main__':\n",
        "    a = int(input())\n",
        "    b = int(input())\n",
        "    print(a//b) # Gives result of integer division.\n",
        "    print(a/b) # Gives result of float division."
      ],
      "execution_count": 3,
      "outputs": [
        {
          "output_type": "stream",
          "name": "stdout",
          "text": [
            "8\n",
            "10\n",
            "0\n",
            "0.8\n"
          ]
        }
      ]
    },
    {
      "cell_type": "markdown",
      "metadata": {
        "id": "ZqyXWMKezOl8"
      },
      "source": [
        "# Task 5\n",
        "The provided code stub reads and integer n. For all non-negative integers i < n, print i^2 ."
      ]
    },
    {
      "cell_type": "code",
      "metadata": {
        "colab": {
          "base_uri": "https://localhost:8080/"
        },
        "id": "I9lqXBTWx0ZH",
        "outputId": "fbe74d6f-c9b6-4217-a433-65d907ff9184"
      },
      "source": [
        "if __name__ == '__main__':\n",
        "    n = int(input())\n",
        "    for i in range(0,n): # The value starts from 0 and goes till n-1.\n",
        "        print(i**2)\n"
      ],
      "execution_count": 4,
      "outputs": [
        {
          "output_type": "stream",
          "name": "stdout",
          "text": [
            "5\n",
            "0\n",
            "1\n",
            "4\n",
            "9\n",
            "16\n"
          ]
        }
      ]
    },
    {
      "cell_type": "markdown",
      "metadata": {
        "id": "B117Asdl0J9N"
      },
      "source": [
        "#Task 6\n",
        "\n",
        "Given a year, determine whether it is a leap year. If it is a leap year, return the Boolean True, otherwise return False.\n",
        "\n",
        "Note that the code stub provided reads from STDIN and passes arguments to the is_leap function. It is only necessary to complete the is_leap function."
      ]
    },
    {
      "cell_type": "code",
      "metadata": {
        "colab": {
          "base_uri": "https://localhost:8080/"
        },
        "id": "VeyB3HNQx0So",
        "outputId": "75a129a0-d0bf-427d-94d3-39268e031682"
      },
      "source": [
        "def is_leap(year):\n",
        "    leap = False\n",
        "    # If year is divisible by 4 and 400 it is leap year and also if year is not divisble by 100 it is also a leap year otherwise it is not a leap year\n",
        "    if (year % 4) == 0 and ((year % 400) == 0 or (year % 100) != 0) :\n",
        "        return True\n",
        "\n",
        "    else :\n",
        "        return False\n",
        "\n",
        "year = int(input())\n",
        "print(is_leap(year))"
      ],
      "execution_count": 5,
      "outputs": [
        {
          "output_type": "stream",
          "name": "stdout",
          "text": [
            "2401\n",
            "False\n"
          ]
        }
      ]
    },
    {
      "cell_type": "markdown",
      "metadata": {
        "id": "XnkzKhnl0OjH"
      },
      "source": [
        "# Task 7 \n",
        "The included code stub will read an integer n.\n",
        "\n",
        "Without using any string methods, try to print the following:\n",
        "123.....n\n",
        "\n",
        "Note that \"...\" represents the consecutive values in between.\n",
        "\n"
      ]
    },
    {
      "cell_type": "code",
      "metadata": {
        "colab": {
          "base_uri": "https://localhost:8080/"
        },
        "id": "kiMlXJLP0PQY",
        "outputId": "20708cfd-40fc-4eff-9054-a8da865e0530"
      },
      "source": [
        "if __name__ == '__main__':\n",
        "    n = int(input())\n",
        "    for i in range(1,n+1): # Value of i starts from 1 and goes till n.\n",
        "        print(i, end = \"\") # The default value of end operator is \"\\n\" which means next line, so here we removed it."
      ],
      "execution_count": 6,
      "outputs": [
        {
          "output_type": "stream",
          "name": "stdout",
          "text": [
            "9\n",
            "123456789"
          ]
        }
      ]
    }
  ]
}