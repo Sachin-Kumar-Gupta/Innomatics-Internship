{
  "nbformat": 4,
  "nbformat_minor": 5,
  "metadata": {
    "kernelspec": {
      "display_name": "Python 3",
      "language": "python",
      "name": "python3"
    },
    "language_info": {
      "codemirror_mode": {
        "name": "ipython",
        "version": 3
      },
      "file_extension": ".py",
      "mimetype": "text/x-python",
      "name": "python",
      "nbconvert_exporter": "python",
      "pygments_lexer": "ipython3",
      "version": "3.9.1"
    },
    "colab": {
      "name": "Task_2 Classification .ipynb",
      "provenance": [],
      "collapsed_sections": [
        "3d0njnv_7bDo",
        "O7WTh-TxEO5d",
        "YW16zmpnGbIF",
        "ODEZV3tKHaJn",
        "6WGdinI1_KuL"
      ]
    }
  },
  "cells": [
    {
      "cell_type": "markdown",
      "metadata": {
        "id": "automated-newspaper"
      },
      "source": [
        "# Classification on CIFAR 10 Dataset"
      ],
      "id": "automated-newspaper"
    },
    {
      "cell_type": "markdown",
      "metadata": {
        "id": "humanitarian-vegetable"
      },
      "source": [
        "Instructions - \n",
        "1. In order to kick start, code for setting up the dataframes has already been given (Step 1 to 5)\n",
        "2. Go through the entire code written below and put the relavent comment for each line of code. Understanding below mentioned code is very important.\n",
        "3. After commenting the code in step 1 to 5, complete step 6 and 7"
      ],
      "id": "humanitarian-vegetable"
    },
    {
      "cell_type": "markdown",
      "metadata": {
        "id": "coral-present"
      },
      "source": [
        "### Step - 1 (Setup Code)"
      ],
      "id": "coral-present"
    },
    {
      "cell_type": "code",
      "metadata": {
        "id": "iraqi-being",
        "colab": {
          "base_uri": "https://localhost:8080/"
        },
        "outputId": "4f5e550d-808e-4ce7-cf65-d984d0007f7d"
      },
      "source": [
        "# Run some setup code for this notebook.\n",
        "\n",
        "import random\n",
        "import numpy as np\n",
        "import matplotlib.pyplot as plt\n",
        "import os\n",
        "\n",
        "\n",
        "from __future__ import print_function\n",
        "\n",
        "from builtins import range\n",
        "from six.moves import cPickle as pickle\n",
        "from imageio import imread\n",
        "import platform\n",
        "\n",
        "import warnings\n",
        "warnings.filterwarnings(\"ignore\")\n",
        "\n",
        "# This is a bit of magic to make matplotlib figures appear inline in the notebook\n",
        "# rather than in a new window.\n",
        "%matplotlib inline\n",
        "plt.rcParams['figure.figsize'] = (10.0, 8.0) # set default size of plots\n",
        "plt.rcParams['image.interpolation'] = 'nearest'\n",
        "plt.rcParams['image.cmap'] = 'gray'\n",
        "\n",
        "# Some more magic so that the notebook will reload external python modules;\n",
        "# see http://stackoverflow.com/questions/1907993/autoreload-of-modules-in-ipython\n",
        "%load_ext autoreload\n",
        "%autoreload 2"
      ],
      "id": "iraqi-being",
      "execution_count": 33,
      "outputs": [
        {
          "output_type": "stream",
          "name": "stdout",
          "text": [
            "The autoreload extension is already loaded. To reload it, use:\n",
            "  %reload_ext autoreload\n"
          ]
        }
      ]
    },
    {
      "cell_type": "markdown",
      "metadata": {
        "id": "double-catalyst"
      },
      "source": [
        "### Step - 2 (Download the dataset)"
      ],
      "id": "double-catalyst"
    },
    {
      "cell_type": "code",
      "metadata": {
        "id": "recovered-consistency",
        "colab": {
          "base_uri": "https://localhost:8080/"
        },
        "outputId": "8db51586-f0cf-432f-83fd-49e2b64b127a"
      },
      "source": [
        "# # Use this code to download the dataset for the first time\n",
        "# # You will be required to install wget using pip\n",
        "# # For Linux users checkout the alternative for 'del'\n",
        "\n",
        "!wget http://www.cs.toronto.edu/~kriz/cifar-10-python.tar.gz -O cifar-10-python.tar.gz\n",
        "!tar -xzvf cifar-10-python.tar.gz\n",
        "!del cifar-10-python.tar.gz"
      ],
      "id": "recovered-consistency",
      "execution_count": 2,
      "outputs": [
        {
          "output_type": "stream",
          "name": "stdout",
          "text": [
            "--2022-01-12 06:59:16--  http://www.cs.toronto.edu/~kriz/cifar-10-python.tar.gz\n",
            "Resolving www.cs.toronto.edu (www.cs.toronto.edu)... 128.100.3.30\n",
            "Connecting to www.cs.toronto.edu (www.cs.toronto.edu)|128.100.3.30|:80... connected.\n",
            "HTTP request sent, awaiting response... 200 OK\n",
            "Length: 170498071 (163M) [application/x-gzip]\n",
            "Saving to: ‘cifar-10-python.tar.gz’\n",
            "\n",
            "cifar-10-python.tar 100%[===================>] 162.60M  44.3MB/s    in 4.2s    \n",
            "\n",
            "2022-01-12 06:59:21 (39.1 MB/s) - ‘cifar-10-python.tar.gz’ saved [170498071/170498071]\n",
            "\n",
            "cifar-10-batches-py/\n",
            "cifar-10-batches-py/data_batch_4\n",
            "cifar-10-batches-py/readme.html\n",
            "cifar-10-batches-py/test_batch\n",
            "cifar-10-batches-py/data_batch_3\n",
            "cifar-10-batches-py/batches.meta\n",
            "cifar-10-batches-py/data_batch_2\n",
            "cifar-10-batches-py/data_batch_5\n",
            "cifar-10-batches-py/data_batch_1\n",
            "/bin/bash: del: command not found\n"
          ]
        }
      ]
    },
    {
      "cell_type": "markdown",
      "metadata": {
        "id": "scientific-sword"
      },
      "source": [
        "### Step - 3 (Load the Dataset)"
      ],
      "id": "scientific-sword"
    },
    {
      "cell_type": "code",
      "metadata": {
        "id": "rotary-colorado",
        "colab": {
          "base_uri": "https://localhost:8080/"
        },
        "outputId": "748f7f34-06a7-4847-8833-c06e204b733a"
      },
      "source": [
        "# This cell loads the training and testing dataset. Please note the variables at\n",
        "# the end of the cell as you would require them to access the train/test data \n",
        "# and labels throughout the assignment\n",
        "def load_pickle(f):\n",
        "    version = platform.python_version_tuple()\n",
        "    if version[0] == '2':\n",
        "        return  pickle.load(f)\n",
        "    elif version[0] == '3':\n",
        "        return  pickle.load(f, encoding='latin1')\n",
        "    raise ValueError(\"invalid python version: {}\".format(version))\n",
        "\n",
        "\n",
        "def load_CIFAR_batch(filename):\n",
        "    \"\"\" load single batch of cifar \"\"\"\n",
        "    with open(filename, 'rb') as f:\n",
        "        datadict = load_pickle(f)\n",
        "        X = datadict['data']\n",
        "        Y = datadict['labels']\n",
        "        X = X.reshape(10000, 3, 32, 32).transpose(0,2,3,1).astype(\"float\")\n",
        "        Y = np.array(Y)\n",
        "        return X, Y\n",
        "\n",
        "\n",
        "def load_CIFAR10(ROOT):\n",
        "    \"\"\" load all of cifar \"\"\"\n",
        "    xs = []\n",
        "    ys = []\n",
        "    for b in range(1,6):\n",
        "        f = os.path.join(ROOT, 'data_batch_%d' % (b, ))\n",
        "        X, Y = load_CIFAR_batch(f)\n",
        "        xs.append(X)\n",
        "        ys.append(Y)\n",
        "    Xtr = np.concatenate(xs)\n",
        "    Ytr = np.concatenate(ys)\n",
        "    del X, Y\n",
        "    Xte, Yte = load_CIFAR_batch(os.path.join(ROOT, 'test_batch'))\n",
        "    return Xtr, Ytr, Xte, Yte\n",
        "\n",
        "\n",
        "cifar10_dir = 'cifar-10-batches-py'\n",
        "\n",
        "# Cleaning up variables to prevent loading data multiple times\n",
        "try:\n",
        "    del X_train, y_train\n",
        "    del X_test, y_test\n",
        "    print('Clear previously loaded data.')\n",
        "except:\n",
        "    pass\n",
        "\n",
        "X_train, y_train, X_test, y_test = load_CIFAR10(cifar10_dir)\n",
        "\n",
        "# As a sanity check, we print out the size of the training and test data.\n",
        "print('Training data shape: ', X_train.shape)\n",
        "print('Training labels shape: ', y_train.shape)\n",
        "print('Test data shape: ', X_test.shape)\n",
        "print('Test labels shape: ', y_test.shape)"
      ],
      "id": "rotary-colorado",
      "execution_count": 3,
      "outputs": [
        {
          "output_type": "stream",
          "name": "stdout",
          "text": [
            "Training data shape:  (50000, 32, 32, 3)\n",
            "Training labels shape:  (50000,)\n",
            "Test data shape:  (10000, 32, 32, 3)\n",
            "Test labels shape:  (10000,)\n"
          ]
        }
      ]
    },
    {
      "cell_type": "markdown",
      "metadata": {
        "id": "flying-dairy"
      },
      "source": [
        "### Step - 4 (Visualization)"
      ],
      "id": "flying-dairy"
    },
    {
      "cell_type": "markdown",
      "metadata": {
        "id": "constant-plaintiff"
      },
      "source": [
        "Next we visualize the CIFAR-10 dataset. Although these functions are being written for you, we highly recommend you go through the code and make yourself familiar as these are things you will be required to do very often when working on AI/ML projects"
      ],
      "id": "constant-plaintiff"
    },
    {
      "cell_type": "code",
      "metadata": {
        "id": "incorporated-binding",
        "colab": {
          "base_uri": "https://localhost:8080/",
          "height": 264
        },
        "outputId": "5b3e06ac-f5a7-49f7-f375-e6a94ea06fe0"
      },
      "source": [
        "# Visualize some examples from the dataset.\n",
        "# We show a few examples of training images from each class.\n",
        "classes = ['plane', 'car', 'bird', 'cat', 'deer', 'dog', 'frog', 'horse', 'ship', 'truck']\n",
        "num_classes = len(classes)\n",
        "samples_per_class = 7\n",
        "for y, cls in enumerate(classes):\n",
        "    idxs = np.flatnonzero(y_train == y)\n",
        "    idxs = np.random.choice(idxs, samples_per_class, replace=False)\n",
        "    for i, idx in enumerate(idxs):\n",
        "        plt_idx = i * num_classes + y + 1\n",
        "        plt.subplot(samples_per_class, num_classes, plt_idx)\n",
        "        plt.imshow(X_train[idx].astype('uint8'))\n",
        "        plt.axis('off')\n",
        "        if i == 0:\n",
        "            plt.title(cls)\n",
        "plt.show()"
      ],
      "id": "incorporated-binding",
      "execution_count": 4,
      "outputs": [
        {
          "output_type": "display_data",
          "data": {
            "image/png": "[encoded data removed]",
            "text/plain": [
              "<Figure size 432x288 with 70 Axes>"
            ]
          },
          "metadata": {
            "needs_background": "light"
          }
        }
      ]
    },
    {
      "cell_type": "markdown",
      "metadata": {
        "id": "interior-baptist"
      },
      "source": [
        "### Step - 5 (Flattening the images)"
      ],
      "id": "interior-baptist"
    },
    {
      "cell_type": "markdown",
      "metadata": {
        "id": "catholic-prophet"
      },
      "source": [
        "In the next cell we flatten each image into a single dimensional vector so that it is easy to process. You should be able to reason about the dimensions comfortable."
      ],
      "id": "catholic-prophet"
    },
    {
      "cell_type": "code",
      "metadata": {
        "scrolled": true,
        "id": "chief-woman",
        "colab": {
          "base_uri": "https://localhost:8080/"
        },
        "outputId": "b8985564-b7a9-448b-9df3-de4e2be51df7"
      },
      "source": [
        "# Subsample the data for more efficient code execution in this exercise\n",
        "num_training = 5000\n",
        "mask = list(range(num_training))\n",
        "X_train = X_train[mask]\n",
        "y_train = y_train[mask]\n",
        "\n",
        "num_test = 500\n",
        "mask = list(range(num_test))\n",
        "X_test = X_test[mask]\n",
        "y_test = y_test[mask]\n",
        "\n",
        "# Reshape the image data into rows\n",
        "X_train = np.reshape(X_train, (X_train.shape[0], -1))\n",
        "X_test = np.reshape(X_test, (X_test.shape[0], -1))\n",
        "print(X_train.shape, X_test.shape)"
      ],
      "id": "chief-woman",
      "execution_count": 5,
      "outputs": [
        {
          "output_type": "stream",
          "name": "stdout",
          "text": [
            "(5000, 3072) (500, 3072)\n"
          ]
        }
      ]
    },
    {
      "cell_type": "markdown",
      "metadata": {
        "id": "painful-charleston"
      },
      "source": [
        "### Step - 6 (Apply all possible classification algorithms)"
      ],
      "id": "painful-charleston"
    },
    {
      "cell_type": "markdown",
      "metadata": {
        "id": "assured-clone"
      },
      "source": [
        "For each algo complete the following steps with appropriate plots, diagrams and code - \n",
        "1. Discuss the intuition behind each algorithm\n",
        "2. Mention pros and cons\n",
        "3. Discuss about Model parameters and Hyperparameters\n",
        "4. Discuss about overfitting and underfitting with relavant plots and code (Hint: Use cross validation and plot hyperparameter vs accuracy score)\n",
        "5. Discuss about train and test time/space complexities\n",
        "6. Measure the performance of model using various metrics and write in detail about each metric"
      ],
      "id": "assured-clone"
    },
    {
      "cell_type": "markdown",
      "source": [
        "## Logistic Regreesion "
      ],
      "metadata": {
        "id": "3d0njnv_7bDo"
      },
      "id": "3d0njnv_7bDo"
    },
    {
      "cell_type": "markdown",
      "source": [
        "***Intution*** :\n",
        "\n",
        "It is a supervised learning algorithm used to predict the probability of a target variable. The nature of target or dependent variable is dichotomous, which means there would be only two possible classes.\n",
        "\n",
        "In other words, the dependent variable is binary in nature having data coded as either 1 (success) or 0 (failure).\n",
        "\n",
        "***Pros***:\n",
        "\n",
        "1. Unlike Decision trees or SVM , this algorithm allows model to be updated easily to reflect new data.\n",
        "2. It is  very efficient when the dataset has features that are linearly separable.\n",
        "3. This algorithm can easily be extended to multi-class classification using a softmax classifier, this is known as Multinomial Logistic Regression.\n",
        "\n",
        "***Cons***:\n",
        "\n",
        "1. Non linear problems can't be solved with logistic regression since it has a linear decision surface.\n",
        "2. It is difficult to capture complex relationships using logistic regression.\n",
        "3.This algorithm is sensitive to outliers."
      ],
      "metadata": {
        "id": "JNyibuxULVs7"
      },
      "id": "JNyibuxULVs7"
    },
    {
      "cell_type": "code",
      "source": [
        "from sklearn.linear_model import LogisticRegression\n",
        "lr = LogisticRegression()\n",
        "lr.fit(X_train,y_train)"
      ],
      "metadata": {
        "id": "7EEr7Aau7fIC",
        "colab": {
          "base_uri": "https://localhost:8080/"
        },
        "outputId": "86540ed1-290d-4102-d65c-9a6f74526ea4"
      },
      "id": "7EEr7Aau7fIC",
      "execution_count": 34,
      "outputs": [
        {
          "output_type": "execute_result",
          "data": {
            "text/plain": [
              "LogisticRegression()"
            ]
          },
          "metadata": {},
          "execution_count": 34
        }
      ]
    },
    {
      "cell_type": "code",
      "source": [
        "y_lr = lr.predict(X_test)"
      ],
      "metadata": {
        "id": "dAiDz0kEDvq9"
      },
      "id": "dAiDz0kEDvq9",
      "execution_count": 7,
      "outputs": []
    },
    {
      "cell_type": "code",
      "source": [
        "from sklearn.metrics import accuracy_score\n",
        "lr_ac = accuracy_score(y_test,y_lr)*100\n",
        "lr_ac"
      ],
      "metadata": {
        "colab": {
          "base_uri": "https://localhost:8080/"
        },
        "id": "FbGU32ULDt-3",
        "outputId": "fc187f31-40aa-4fb8-fbc9-2a18f6af23b4"
      },
      "id": "FbGU32ULDt-3",
      "execution_count": 31,
      "outputs": [
        {
          "output_type": "execute_result",
          "data": {
            "text/plain": [
              "32.4"
            ]
          },
          "metadata": {},
          "execution_count": 31
        }
      ]
    },
    {
      "cell_type": "markdown",
      "source": [
        "## KNN"
      ],
      "metadata": {
        "id": "O7WTh-TxEO5d"
      },
      "id": "O7WTh-TxEO5d"
    },
    {
      "cell_type": "markdown",
      "source": [
        "***Intution***:\n",
        "\n",
        "K-NN algorithm assumes the similarity between the data and available cases and put the new case into the category that is most similar to the available categories. It is also called a lazy learner algorithm because it does not learn from the training set immediately instead it stores the dataset and at the time of classification, it performs an action on the dataset.\n",
        "\n",
        "Pros:\n",
        "\n",
        "1. KNN is very easy to implement. There are only two parameters required to implement KNN i.e. the value of K and the distance function.\n",
        "2. K-NN might take some time while selecting the first hyper parameter but after that rest of the parameters are aligned to it.\n",
        "3. It is a non-parametric algorithm which means there are assumptions to be met to implement K-NN.\n",
        "\n",
        "\n",
        "\n",
        "***Cons***:\n",
        "\n",
        "1. The KNN algorithm doesn't work well with high dimensional data because with large number of dimensions, it becomes difficult for the algorithm to calculate the distance in each dimension.\n",
        "2. KNN is sensitive to noise in the dataset. We need to manually impute missing values and remove outliers.\n",
        "3. It requries feature scaling  before applying to any dataset. If we don't do so, KNN may generate wrong predictions.\n"
      ],
      "metadata": {
        "id": "jYtgtJQDNbAq"
      },
      "id": "jYtgtJQDNbAq"
    },
    {
      "cell_type": "code",
      "source": [
        "from sklearn.neighbors import KNeighborsClassifier\n",
        "knn = KNeighborsClassifier(n_neighbors=4, metric= \"minkowski\", p=3)\n",
        "knn.fit(X_train,y_train)\n",
        "y_knn = knn.predict(X_test)"
      ],
      "metadata": {
        "id": "MMxaq0x3EQ3f"
      },
      "id": "MMxaq0x3EQ3f",
      "execution_count": 9,
      "outputs": []
    },
    {
      "cell_type": "code",
      "source": [
        "knn_ac = accuracy_score(y_test,y_knn)*100\n",
        "knn_ac"
      ],
      "metadata": {
        "colab": {
          "base_uri": "https://localhost:8080/"
        },
        "id": "NZpdN7KWExvK",
        "outputId": "5ab6bc37-a06e-43d4-d238-f12f8efc80fc"
      },
      "id": "NZpdN7KWExvK",
      "execution_count": 30,
      "outputs": [
        {
          "output_type": "execute_result",
          "data": {
            "text/plain": [
              "23.200000000000003"
            ]
          },
          "metadata": {},
          "execution_count": 30
        }
      ]
    },
    {
      "cell_type": "markdown",
      "source": [
        "## SVM"
      ],
      "metadata": {
        "id": "YW16zmpnGbIF"
      },
      "id": "YW16zmpnGbIF"
    },
    {
      "cell_type": "markdown",
      "source": [
        "***Intution***:\n",
        "\n",
        "In this, we plot each data item as a point in n-dimensional space (where n is a number of features you have) with the value of each feature being the value of a particular coordinate. Then, we perform classification by finding the hyper-plane that differentiates the two classes very well.\n",
        "\n",
        "***Pros***:\n",
        "\n",
        "1. It is effective in high dimensional spaces.\n",
        "2. It is effective in cases where the number of dimensions is greater than the number of samples.\n",
        "3. It uses a subset of training points in the decision function (called support vectors), so it is also memory efficient.\n",
        "\n",
        "***Cons***:\n",
        "\n",
        "1. It doesn’t perform well when we have large data set because the required training time is higher.\n",
        "2. It also doesn’t perform very well, when the data set has more noise i.e. target classes are overlapping.\n",
        "3. SVM doesn’t directly provide probability estimates, these are calculated using a five-fold cross-validation."
      ],
      "metadata": {
        "id": "87X5oUcGOj-F"
      },
      "id": "87X5oUcGOj-F"
    },
    {
      "cell_type": "code",
      "source": [
        "from sklearn.svm import SVC\n",
        "svc = SVC(kernel=\"linear\", random_state=0)\n",
        "svc.fit(X_train,y_train)\n",
        "y_svc = svc.predict(X_test)"
      ],
      "metadata": {
        "id": "l30Sdg0UGcgY"
      },
      "id": "l30Sdg0UGcgY",
      "execution_count": 11,
      "outputs": []
    },
    {
      "cell_type": "code",
      "source": [
        "svc_ac = accuracy_score(y_test,y_svc)*100\n",
        "svc_ac"
      ],
      "metadata": {
        "colab": {
          "base_uri": "https://localhost:8080/"
        },
        "id": "FEzDkDGlGy5z",
        "outputId": "8e5b2680-3975-4b03-c02a-2616282dca46"
      },
      "id": "FEzDkDGlGy5z",
      "execution_count": 28,
      "outputs": [
        {
          "output_type": "execute_result",
          "data": {
            "text/plain": [
              "28.000000000000004"
            ]
          },
          "metadata": {},
          "execution_count": 28
        }
      ]
    },
    {
      "cell_type": "code",
      "source": [
        "svm = SVC(kernel=\"rbf\", random_state=0)\n",
        "svm.fit(X_train,y_train)\n",
        "y_svm = svm.predict(X_test)"
      ],
      "metadata": {
        "id": "ovVYFXqxG4RY"
      },
      "id": "ovVYFXqxG4RY",
      "execution_count": 13,
      "outputs": []
    },
    {
      "cell_type": "code",
      "source": [
        "svm_ac = accuracy_score(y_test,y_svm)*100\n",
        "svm_ac"
      ],
      "metadata": {
        "colab": {
          "base_uri": "https://localhost:8080/"
        },
        "id": "GamjVCU0G_u2",
        "outputId": "65c74a42-dd17-4bc9-85c4-e80e129c9791"
      },
      "id": "GamjVCU0G_u2",
      "execution_count": 29,
      "outputs": [
        {
          "output_type": "execute_result",
          "data": {
            "text/plain": [
              "40.400000000000006"
            ]
          },
          "metadata": {},
          "execution_count": 29
        }
      ]
    },
    {
      "cell_type": "markdown",
      "source": [
        "## Naive Bayes"
      ],
      "metadata": {
        "id": "ODEZV3tKHaJn"
      },
      "id": "ODEZV3tKHaJn"
    },
    {
      "cell_type": "markdown",
      "source": [
        "***Intution***:\n",
        "\n",
        "In this the key difference is that naive bayes assumes that features are independent of each other and there is no correlation between features.\n",
        "\n",
        "\n",
        "\n",
        "***Pros***:\n",
        "\n",
        "1. The assumption that all features are independent makes naive bayes algorithm very fast compared to complicated algorithms.\n",
        "2. It works well with high-dimensional data such as text classification, email spam detection.\n",
        "\n",
        "***Cons***:\n",
        "\n",
        "1. The assumption that all features are independent is not usually the case in real life so it makes naive bayes algorithm less accurate than complicated algorithms."
      ],
      "metadata": {
        "id": "__9aYrMmQI0g"
      },
      "id": "__9aYrMmQI0g"
    },
    {
      "cell_type": "code",
      "source": [
        "from sklearn.naive_bayes import GaussianNB\n",
        "nb = GaussianNB()\n",
        "nb.fit(X_train,y_train)\n",
        "y_nb = nb.predict(X_test)"
      ],
      "metadata": {
        "id": "ocWCFY2AHccx"
      },
      "id": "ocWCFY2AHccx",
      "execution_count": 15,
      "outputs": []
    },
    {
      "cell_type": "code",
      "source": [
        "nb_ac = accuracy_score(y_test,y_nb)*100\n",
        "nb_ac"
      ],
      "metadata": {
        "colab": {
          "base_uri": "https://localhost:8080/"
        },
        "id": "QXt8cs_lHs9y",
        "outputId": "ff802421-b936-4cfb-8c14-c0d51aa4e280"
      },
      "id": "QXt8cs_lHs9y",
      "execution_count": 27,
      "outputs": [
        {
          "output_type": "execute_result",
          "data": {
            "text/plain": [
              "28.999999999999996"
            ]
          },
          "metadata": {},
          "execution_count": 27
        }
      ]
    },
    {
      "cell_type": "markdown",
      "metadata": {
        "id": "6WGdinI1_KuL"
      },
      "source": [
        "## Decision Tree Model"
      ],
      "id": "6WGdinI1_KuL"
    },
    {
      "cell_type": "markdown",
      "source": [
        "***Intution***:\n",
        "\n",
        "It is a tree-structured classifier, where internal nodes represent the features of a dataset, branches represent the decision rules and each leaf node represents the outcome. In a Decision tree, there are two nodes, which are the Decision Node and Leaf Node. Decision nodes are used to make any decision and have multiple branches, whereas Leaf nodes are the output of those decisions and do not contain any further branches. It is a graphical representation for getting all the possible solutions to a problem/decision based on given conditions.\n",
        "\n",
        "***Pros***:\n",
        "\n",
        "1. Easy to understand and interpret, perfect for visual representation. This is an example of a white box model, which closely mimics the human decision-making process.\n",
        "2. Can work with numerical and categorical features.\n",
        "3. Non-parametric model: no assumptions about the shape of data.\n",
        "\n",
        "***Cons***:\n",
        "\n",
        "1. A small change in the data can cause a large change in the structure of the decision tree causing instability.\n",
        "2. Decision tree often involves higher time to train the model.\n"
      ],
      "metadata": {
        "id": "M309JzTTQr8j"
      },
      "id": "M309JzTTQr8j"
    },
    {
      "cell_type": "code",
      "metadata": {
        "colab": {
          "base_uri": "https://localhost:8080/"
        },
        "id": "RrtzqUyd9N32",
        "outputId": "92739ef5-1bd6-4b64-a204-df53129b5371"
      },
      "source": [
        "from sklearn.tree import DecisionTreeClassifier\n",
        "dt = DecisionTreeClassifier(criterion = 'entropy',random_state = 0)\n",
        "dt.fit(X_train,y_train)"
      ],
      "id": "RrtzqUyd9N32",
      "execution_count": 17,
      "outputs": [
        {
          "output_type": "execute_result",
          "data": {
            "text/plain": [
              "DecisionTreeClassifier(criterion='entropy', random_state=0)"
            ]
          },
          "metadata": {},
          "execution_count": 17
        }
      ]
    },
    {
      "cell_type": "code",
      "metadata": {
        "id": "JRVLMjs6-v0j"
      },
      "source": [
        "y_dt = dt.predict(X_test)"
      ],
      "id": "JRVLMjs6-v0j",
      "execution_count": 18,
      "outputs": []
    },
    {
      "cell_type": "code",
      "metadata": {
        "colab": {
          "base_uri": "https://localhost:8080/"
        },
        "id": "CHUe6xVF-y7x",
        "outputId": "48a69ee0-333f-4d75-f630-9000e4bfc2dd"
      },
      "source": [
        "dt_ac = accuracy_score(y_test,y_dt)*100\n",
        "dt_ac"
      ],
      "id": "CHUe6xVF-y7x",
      "execution_count": 26,
      "outputs": [
        {
          "output_type": "execute_result",
          "data": {
            "text/plain": [
              "21.2"
            ]
          },
          "metadata": {},
          "execution_count": 26
        }
      ]
    },
    {
      "cell_type": "markdown",
      "metadata": {
        "id": "aQNzp-_N_z-G"
      },
      "source": [
        "## Random Forest"
      ],
      "id": "aQNzp-_N_z-G"
    },
    {
      "cell_type": "markdown",
      "source": [
        "***Intution***:\n",
        "\n",
        "Random forest is a Supervised Machine Learning Algorithm that is used widely in Classification and Regression problems. It builds decision trees on different samples and takes their majority vote for classification and average in case of regression.\n",
        "\n",
        "\n",
        "***Pros***:\n",
        "\n",
        "1. It reduces overfitting in decision trees and helps to improve the accuracy\n",
        "2. It is flexible to both classification and regression problems\n",
        "3. It works well with both categorical and continuous values\n",
        "4. It automates missing values present in the data.\n",
        "\n",
        "***Cons***:\n",
        "\n",
        "1. It requires much computational power as well as resources as it builds numerous trees to combine their outputs.\n",
        "2. It also requires much time for training as it combines a lot of decision trees to determine the class.\n",
        "3. Due to the ensemble of decision trees, it also suffers interpretability and fails to determine the significance of each variable."
      ],
      "metadata": {
        "id": "xqb12fFgRMjs"
      },
      "id": "xqb12fFgRMjs"
    },
    {
      "cell_type": "code",
      "metadata": {
        "colab": {
          "base_uri": "https://localhost:8080/"
        },
        "id": "AMU9yL2y_zPl",
        "outputId": "ad832bf1-2be8-4579-c64b-6c395bfcaef8"
      },
      "source": [
        "from sklearn.ensemble import RandomForestClassifier\n",
        "rf = RandomForestClassifier(n_estimators  = 50, criterion = 'entropy',random_state=0)\n",
        "rf.fit(X_train,y_train)"
      ],
      "id": "AMU9yL2y_zPl",
      "execution_count": 20,
      "outputs": [
        {
          "output_type": "execute_result",
          "data": {
            "text/plain": [
              "RandomForestClassifier(criterion='entropy', n_estimators=50, random_state=0)"
            ]
          },
          "metadata": {},
          "execution_count": 20
        }
      ]
    },
    {
      "cell_type": "code",
      "metadata": {
        "id": "EJkUqc_FAR4V"
      },
      "source": [
        "y_rf = rf.predict(X_test)"
      ],
      "id": "EJkUqc_FAR4V",
      "execution_count": 21,
      "outputs": []
    },
    {
      "cell_type": "code",
      "metadata": {
        "colab": {
          "base_uri": "https://localhost:8080/"
        },
        "id": "a4dBkn9UAxaw",
        "outputId": "d7a6f9b4-e54c-4bf8-da75-d093fec9a708"
      },
      "source": [
        "rf_ac = accuracy_score(y_test,y_rf)*100\n",
        "rf_ac"
      ],
      "id": "a4dBkn9UAxaw",
      "execution_count": 25,
      "outputs": [
        {
          "output_type": "execute_result",
          "data": {
            "text/plain": [
              "38.4"
            ]
          },
          "metadata": {},
          "execution_count": 25
        }
      ]
    },
    {
      "cell_type": "markdown",
      "source": [
        "## XG Boost"
      ],
      "metadata": {
        "id": "3ptg5daJJRxB"
      },
      "id": "3ptg5daJJRxB"
    },
    {
      "cell_type": "markdown",
      "source": [
        "***Intution:***\n",
        "\n",
        "XGBoost is an ensemble learning method. Ensemble learning offers a systematic solution to combine the predictive power of multiple learners. The resultant is a single model which gives the aggregated output from several models.\n",
        "\n",
        "In boosting, the trees are built sequentially such that each subsequent tree aims to reduce the errors of the previous tree. Each tree learns from its predecessors and updates the residual errors. Hence, the tree that grows next in the sequence will learn from an updated version of the residuals.\n",
        "\n",
        "\n",
        "***Pros:***\n",
        "\n",
        "1. Gradient Boosting comes with an easy to read and interpret algorithm, making most of its predictions easy to handle.\n",
        "2. Boosting is a resilient and robust method that prevents and cubs over-fitting quite easily\n",
        "3. It performs very well on small and medium data with subgroups and structured datasets with not too many features.\n",
        "\n",
        "***Cons:***\n",
        "\n",
        "1. It does not perform  god on sparse and unstructured data.\n",
        "2. Gradient Boosting is very sensitive to outliers since every classifier is forced to fix the errors in the predecessor learners.\n",
        "3. The overall method is hardly scalable. This is because the estimators base their correctness on previous predictors, hence the procedure involves a lot of struggle to streamline."
      ],
      "metadata": {
        "id": "FN08Tq8kJzx4"
      },
      "id": "FN08Tq8kJzx4"
    },
    {
      "cell_type": "code",
      "source": [
        "from xgboost import XGBClassifier\n",
        "xgb = XGBClassifier()\n",
        "xgb.fit(X_train, y_train)\n",
        "xgb_pred = xgb.predict(X_test)"
      ],
      "metadata": {
        "colab": {
          "base_uri": "https://localhost:8080/"
        },
        "id": "t1fvGmZQJUj9",
        "outputId": "0dffaa83-9315-4156-8408-dc7c5e82b1c2"
      },
      "id": "t1fvGmZQJUj9",
      "execution_count": 36,
      "outputs": [
        {
          "output_type": "execute_result",
          "data": {
            "text/plain": [
              "array([2, 8, 8, 8, 4, 6, 3, 6, 5, 8, 0, 9, 1, 1, 9, 8, 5, 3, 8, 3, 9, 0,\n",
              "       0, 1, 2, 6, 6, 9, 1, 6, 5, 2, 5, 3, 9, 1, 4, 9, 8, 5, 0, 6, 7, 4,\n",
              "       0, 8, 5, 8, 4, 4, 9, 0, 6, 6, 8, 8, 5, 6, 8, 2, 6, 6, 6, 5, 6, 6,\n",
              "       1, 0, 3, 9, 0, 6, 8, 8, 9, 2, 9, 5, 5, 0, 8, 1, 2, 0, 2, 7, 2, 8,\n",
              "       8, 1, 8, 4, 8, 2, 4, 6, 4, 0, 2, 7, 2, 4, 6, 3, 1, 1, 6, 6, 5, 5,\n",
              "       6, 5, 6, 2, 9, 7, 0, 9, 2, 5, 8, 4, 1, 7, 0, 6, 2, 5, 4, 0, 7, 1,\n",
              "       8, 1, 3, 3, 9, 7, 6, 0, 6, 8, 1, 5, 1, 7, 6, 5, 5, 5, 9, 9, 6, 0,\n",
              "       4, 6, 2, 9, 6, 0, 2, 1, 6, 4, 8, 7, 8, 6, 7, 9, 0, 7, 0, 8, 1, 9,\n",
              "       8, 4, 3, 9, 0, 0, 4, 4, 7, 8, 6, 2, 9, 0, 4, 5, 5, 1, 7, 4, 8, 0,\n",
              "       7, 5, 7, 9, 8, 7, 1, 5, 8, 4, 7, 8, 2, 1, 0, 9, 1, 3, 0, 9, 0, 4,\n",
              "       7, 6, 1, 6, 9, 9, 9, 0, 3, 7, 5, 9, 5, 4, 8, 0, 4, 9, 0, 3, 1, 9,\n",
              "       7, 9, 0, 1, 4, 8, 5, 1, 2, 5, 5, 7, 6, 0, 6, 9, 9, 3, 5, 1, 5, 6,\n",
              "       0, 8, 8, 4, 7, 0, 4, 3, 6, 2, 9, 3, 0, 4, 4, 6, 9, 4, 0, 1, 8, 0,\n",
              "       1, 8, 7, 9, 9, 4, 4, 1, 5, 4, 6, 0, 0, 6, 6, 6, 2, 8, 6, 1, 0, 2,\n",
              "       1, 4, 8, 5, 0, 0, 5, 0, 7, 6, 4, 6, 5, 5, 6, 6, 3, 9, 2, 3, 1, 3,\n",
              "       5, 9, 2, 6, 6, 6, 6, 8, 0, 7, 5, 5, 0, 5, 8, 5, 7, 6, 8, 9, 9, 1,\n",
              "       9, 2, 6, 7, 4, 4, 1, 8, 2, 5, 8, 8, 0, 7, 6, 8, 0, 5, 4, 7, 9, 4,\n",
              "       2, 7, 8, 2, 6, 6, 2, 8, 0, 8, 2, 0, 9, 4, 7, 7, 1, 8, 6, 5, 9, 4,\n",
              "       2, 3, 0, 9, 9, 1, 2, 0, 8, 2, 0, 7, 0, 2, 8, 0, 5, 4, 9, 9, 0, 9,\n",
              "       3, 9, 2, 4, 8, 5, 4, 8, 5, 4, 9, 6, 2, 5, 2, 3, 7, 4, 8, 4, 3, 1,\n",
              "       9, 4, 9, 9, 3, 6, 0, 0, 2, 0, 9, 9, 7, 2, 0, 6, 2, 6, 4, 8, 5, 6,\n",
              "       1, 4, 0, 6, 7, 3, 3, 2, 6, 3, 8, 4, 5, 4, 4, 8, 2, 4, 9, 6, 8, 2,\n",
              "       7, 8, 9, 5, 8, 0, 1, 7, 8, 1, 8, 0, 6, 0, 2, 0])"
            ]
          },
          "metadata": {},
          "execution_count": 36
        }
      ]
    },
    {
      "cell_type": "code",
      "source": [
        "xgb_ac = accuracy_score(y_test,xgb_pred)*100\n",
        "xgb_ac"
      ],
      "metadata": {
        "colab": {
          "base_uri": "https://localhost:8080/"
        },
        "id": "hfITdMPgJjEH",
        "outputId": "e8505057-67c9-4946-b2b1-78640b5e2c55"
      },
      "id": "hfITdMPgJjEH",
      "execution_count": 37,
      "outputs": [
        {
          "output_type": "execute_result",
          "data": {
            "text/plain": [
              "39.800000000000004"
            ]
          },
          "metadata": {},
          "execution_count": 37
        }
      ]
    },
    {
      "cell_type": "markdown",
      "metadata": {
        "id": "israeli-sleep"
      },
      "source": [
        "# Step - 7 (Compare all the models)"
      ],
      "id": "israeli-sleep"
    },
    {
      "cell_type": "markdown",
      "metadata": {
        "id": "catholic-chinese"
      },
      "source": [
        "Conclude by following below mentioed steps -\n",
        "1. Plot a table showing all the algorithms used and corresponding performance metrics\n",
        "2. Is there any one algorithm that can be used on all the datasets? (Hint: Read about 'No Free Lunch' theorem)"
      ],
      "id": "catholic-chinese"
    },
    {
      "cell_type": "code",
      "source": [
        "import pandas as pd\n",
        "models_acc = pd.DataFrame({'Model Accuracy' : [lr_ac, knn_ac, svc_ac, svm_ac, nb_ac,dt_ac,rf_ac, xgb_ac]}, \n",
        "             index = ['Logistic Regression', 'KNN','SVM-linear','SVM-kernel','Naive Bayes', 'Decison Tree', 'Random Forest', 'XGBoost'])\n",
        "models_acc"
      ],
      "metadata": {
        "colab": {
          "base_uri": "https://localhost:8080/",
          "height": 300
        },
        "id": "EwQmv6kCEHc6",
        "outputId": "8e698700-a57b-4e57-db2b-9f21cfc2501b"
      },
      "id": "EwQmv6kCEHc6",
      "execution_count": 39,
      "outputs": [
        {
          "output_type": "execute_result",
          "data": {
            "text/html": [
              "\n",
              "  <div id=\"df-abd2e17d-66a7-4ec6-acd5-c72196ed8252\">\n",
              "    <div class=\"colab-df-container\">\n",
              "      <div>\n",
              "<style scoped>\n",
              "    .dataframe tbody tr th:only-of-type {\n",
              "        vertical-align: middle;\n",
              "    }\n",
              "\n",
              "    .dataframe tbody tr th {\n",
              "        vertical-align: top;\n",
              "    }\n",
              "\n",
              "    .dataframe thead th {\n",
              "        text-align: right;\n",
              "    }\n",
              "</style>\n",
              "<table border=\"1\" class=\"dataframe\">\n",
              "  <thead>\n",
              "    <tr style=\"text-align: right;\">\n",
              "      <th></th>\n",
              "      <th>Model Accuracy</th>\n",
              "    </tr>\n",
              "  </thead>\n",
              "  <tbody>\n",
              "    <tr>\n",
              "      <th>Logistic Regression</th>\n",
              "      <td>32.4</td>\n",
              "    </tr>\n",
              "    <tr>\n",
              "      <th>KNN</th>\n",
              "      <td>23.2</td>\n",
              "    </tr>\n",
              "    <tr>\n",
              "      <th>SVM-linear</th>\n",
              "      <td>28.0</td>\n",
              "    </tr>\n",
              "    <tr>\n",
              "      <th>SVM-kernel</th>\n",
              "      <td>40.4</td>\n",
              "    </tr>\n",
              "    <tr>\n",
              "      <th>Naive Bayes</th>\n",
              "      <td>29.0</td>\n",
              "    </tr>\n",
              "    <tr>\n",
              "      <th>Decison Tree</th>\n",
              "      <td>21.2</td>\n",
              "    </tr>\n",
              "    <tr>\n",
              "      <th>Random Forest</th>\n",
              "      <td>38.4</td>\n",
              "    </tr>\n",
              "    <tr>\n",
              "      <th>XGBoost</th>\n",
              "      <td>39.8</td>\n",
              "    </tr>\n",
              "  </tbody>\n",
              "</table>\n",
              "</div>\n",
              "      <button class=\"colab-df-convert\" onclick=\"convertToInteractive('df-abd2e17d-66a7-4ec6-acd5-c72196ed8252')\"\n",
              "              title=\"Convert this dataframe to an interactive table.\"\n",
              "              style=\"display:none;\">\n",
              "        \n",
              "  <svg xmlns=\"http://www.w3.org/2000/svg\" height=\"24px\"viewBox=\"0 0 24 24\"\n",
              "       width=\"24px\">\n",
              "    <path d=\"M0 0h24v24H0V0z\" fill=\"none\"/>\n",
              "    <path d=\"M18.56 5.44l.94 2.06.94-2.06 2.06-.94-2.06-.94-.94-2.06-.94 2.06-2.06.94zm-11 1L8.5 8.5l.94-2.06 2.06-.94-2.06-.94L8.5 2.5l-.94 2.06-2.06.94zm10 10l.94 2.06.94-2.06 2.06-.94-2.06-.94-.94-2.06-.94 2.06-2.06.94z\"/><path d=\"M17.41 7.96l-1.37-1.37c-.4-.4-.92-.59-1.43-.59-.52 0-1.04.2-1.43.59L10.3 9.45l-7.72 7.72c-.78.78-.78 2.05 0 2.83L4 21.41c.39.39.9.59 1.41.59.51 0 1.02-.2 1.41-.59l7.78-7.78 2.81-2.81c.8-.78.8-2.07 0-2.86zM5.41 20L4 18.59l7.72-7.72 1.47 1.35L5.41 20z\"/>\n",
              "  </svg>\n",
              "      </button>\n",
              "      \n",
              "  <style>\n",
              "    .colab-df-container {\n",
              "      display:flex;\n",
              "      flex-wrap:wrap;\n",
              "      gap: 12px;\n",
              "    }\n",
              "\n",
              "    .colab-df-convert {\n",
              "      background-color: #E8F0FE;\n",
              "      border: none;\n",
              "      border-radius: 50%;\n",
              "      cursor: pointer;\n",
              "      display: none;\n",
              "      fill: #1967D2;\n",
              "      height: 32px;\n",
              "      padding: 0 0 0 0;\n",
              "      width: 32px;\n",
              "    }\n",
              "\n",
              "    .colab-df-convert:hover {\n",
              "      background-color: #E2EBFA;\n",
              "      box-shadow: 0px 1px 2px rgba(60, 64, 67, 0.3), 0px 1px 3px 1px rgba(60, 64, 67, 0.15);\n",
              "      fill: #174EA6;\n",
              "    }\n",
              "\n",
              "    [theme=dark] .colab-df-convert {\n",
              "      background-color: #3B4455;\n",
              "      fill: #D2E3FC;\n",
              "    }\n",
              "\n",
              "    [theme=dark] .colab-df-convert:hover {\n",
              "      background-color: #434B5C;\n",
              "      box-shadow: 0px 1px 3px 1px rgba(0, 0, 0, 0.15);\n",
              "      filter: drop-shadow(0px 1px 2px rgba(0, 0, 0, 0.3));\n",
              "      fill: #FFFFFF;\n",
              "    }\n",
              "  </style>\n",
              "\n",
              "      <script>\n",
              "        const buttonEl =\n",
              "          document.querySelector('#df-abd2e17d-66a7-4ec6-acd5-c72196ed8252 button.colab-df-convert');\n",
              "        buttonEl.style.display =\n",
              "          google.colab.kernel.accessAllowed ? 'block' : 'none';\n",
              "\n",
              "        async function convertToInteractive(key) {\n",
              "          const element = document.querySelector('#df-abd2e17d-66a7-4ec6-acd5-c72196ed8252');\n",
              "          const dataTable =\n",
              "            await google.colab.kernel.invokeFunction('convertToInteractive',\n",
              "                                                     [key], {});\n",
              "          if (!dataTable) return;\n",
              "\n",
              "          const docLinkHtml = 'Like what you see? Visit the ' +\n",
              "            '<a target=\"_blank\" href=https://colab.research.google.com/notebooks/data_table.ipynb>data table notebook</a>'\n",
              "            + ' to learn more about interactive tables.';\n",
              "          element.innerHTML = '';\n",
              "          dataTable['output_type'] = 'display_data';\n",
              "          await google.colab.output.renderOutput(dataTable, element);\n",
              "          const docLink = document.createElement('div');\n",
              "          docLink.innerHTML = docLinkHtml;\n",
              "          element.appendChild(docLink);\n",
              "        }\n",
              "      </script>\n",
              "    </div>\n",
              "  </div>\n",
              "  "
            ],
            "text/plain": [
              "                     Model Accuracy\n",
              "Logistic Regression            32.4\n",
              "KNN                            23.2\n",
              "SVM-linear                     28.0\n",
              "SVM-kernel                     40.4\n",
              "Naive Bayes                    29.0\n",
              "Decison Tree                   21.2\n",
              "Random Forest                  38.4\n",
              "XGBoost                        39.8"
            ]
          },
          "metadata": {},
          "execution_count": 39
        }
      ]
    }
  ]
}